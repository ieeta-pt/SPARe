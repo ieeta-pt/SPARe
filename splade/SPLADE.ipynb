{
 "cells": [
  {
   "cell_type": "code",
   "execution_count": 1,
   "metadata": {},
   "outputs": [
    {
     "name": "stderr",
     "output_type": "stream",
     "text": [
      "PyTerrier 0.9.2 has loaded Terrier 5.8 (built by craigm on 2023-11-01 18:05) and terrier-helper 0.0.8\n",
      "\n",
      "No etc/terrier.properties, using terrier.default.properties for bootstrap configuration.\n",
      "/home/tiagoalmeida/.local/lib/python3.10/site-packages/tqdm/auto.py:21: TqdmWarning: IProgress not found. Please update jupyter and ipywidgets. See https://ipywidgets.readthedocs.io/en/stable/user_install.html\n",
      "  from .autonotebook import tqdm as notebook_tqdm\n"
     ]
    }
   ],
   "source": [
    "import pyterrier as pt\n",
    "if not pt.started():\n",
    "    pt.init()\n",
    "from pyterrier_pisa import PisaIndex\n",
    "import pandas as pd\n",
    "import pyt_splade\n",
    "splade = pyt_splade.SpladeFactory()"
   ]
  },
  {
   "cell_type": "code",
   "execution_count": 2,
   "metadata": {},
   "outputs": [
    {
     "data": {
      "text/plain": [
       "30522"
      ]
     },
     "execution_count": 2,
     "metadata": {},
     "output_type": "execute_result"
    }
   ],
   "source": [
    "splade.tokenizer.vocab_size"
   ]
  },
  {
   "cell_type": "code",
   "execution_count": null,
   "metadata": {},
   "outputs": [],
   "source": [
    "index = PisaIndex('./msmarco-passage-splade-pisa', stemmer='none')"
   ]
  },
  {
   "cell_type": "code",
   "execution_count": 3,
   "metadata": {},
   "outputs": [
    {
     "data": {
      "text/plain": [
       "(8841823, 28678)"
      ]
     },
     "execution_count": 3,
     "metadata": {},
     "output_type": "execute_result"
    }
   ],
   "source": [
    "index.num_docs(), index.num_terms()"
   ]
  },
  {
   "cell_type": "code",
   "execution_count": 6,
   "metadata": {},
   "outputs": [],
   "source": [
    "out_df = pd.read_csv(\"msmarco-passage-splade-pisa/questions_tokinezed\")"
   ]
  },
  {
   "cell_type": "code",
   "execution_count": 14,
   "metadata": {},
   "outputs": [],
   "source": [
    "retr_pipeline = splade.query() >> index.quantized()"
   ]
  },
  {
   "cell_type": "code",
   "execution_count": 34,
   "metadata": {},
   "outputs": [
    {
     "data": {
      "text/plain": [
       "['#combine:0=310.09364128112793(#base64(IyN2aWQ=))',\n",
       " '#combine:0=249.07488822937012(co)',\n",
       " '#combine:0=140.75511693954468(definition)',\n",
       " '#combine:0=79.1648268699646(biology)',\n",
       " '#combine:0=76.92760229110718(disorder)',\n",
       " '#combine:0=76.83706283569336(abbreviation)',\n",
       " '#combine:0=61.07416749000549(technology)',\n",
       " '#combine:0=59.25496220588684(meaning)',\n",
       " '#combine:0=55.682170391082764(anger)',\n",
       " '#combine:0=52.32481360435486(brian)',\n",
       " '#combine:0=52.32481360435486(davis)',\n",
       " '#combine:0=51.043492555618286(harry)',\n",
       " '#combine:0=50.57345628738403(ian)',\n",
       " '#combine:0=49.864232540130615(jacob)',\n",
       " '#combine:0=48.37033152580261(alex)',\n",
       " '#combine:0=48.31010699272156(fear)',\n",
       " '#combine:0=47.2198486328125(disease)',\n",
       " '#combine:0=46.9759464263916(griffin)',\n",
       " '#combine:0=46.73144817352295(marcus)',\n",
       " '#combine:0=44.87839937210083(henry)',\n",
       " '#combine:0=44.25300657749176(morgan)',\n",
       " '#combine:0=43.49733293056488(#base64(Ig==))',\n",
       " '#combine:0=43.434104323387146(carbon)',\n",
       " '#combine:0=42.86321699619293(government)',\n",
       " '#combine:0=42.48080551624298(culture)',\n",
       " '#combine:0=41.7115718126297(communication)',\n",
       " '#combine:0=41.7115718126297(julian)',\n",
       " '#combine:0=41.7115718126297(jeremy)',\n",
       " '#combine:0=40.546512603759766(gary)',\n",
       " '#combine:0=39.63087201118469(bug)',\n",
       " '#combine:0=37.907835841178894(daniel)',\n",
       " '#combine:0=37.907835841178894(heath)',\n",
       " '#combine:0=34.7847044467926(barry)',\n",
       " '#combine:0=31.9873183965683(nathan)',\n",
       " '#combine:0=31.9873183965683(tyler)',\n",
       " '#combine:0=29.546421766281128(c)',\n",
       " '#combine:0=29.109421372413635(charlie)',\n",
       " '#combine:0=27.86078155040741(immunity)',\n",
       " '#combine:0=25.39152204990387(parker)',\n",
       " '#combine:0=25.088030099868774(owen)',\n",
       " '#combine:0=23.633737862110138(benjamin)',\n",
       " '#combine:0=23.556606471538544(corona)',\n",
       " '#combine:0=23.17005842924118(buzz)',\n",
       " '#combine:0=22.079704701900482(bailey)',\n",
       " '#combine:0=21.214580535888672(science)',\n",
       " '#combine:0=20.89812457561493(pathogen)',\n",
       " '#combine:0=20.580662786960602(merlin)',\n",
       " '#combine:0=19.70241367816925(alexander)',\n",
       " '#combine:0=19.622190296649933(threat)',\n",
       " '#combine:0=19.46154683828354(portal)',\n",
       " '#combine:0=19.381128251552582(lilly)',\n",
       " '#combine:0=18.978065252304077(gavin)',\n",
       " '#combine:0=17.34936386346817(peace)',\n",
       " '#combine:0=16.52495712041855(bradford)',\n",
       " '#combine:0=15.943801403045654(jakob)',\n",
       " '#combine:0=15.526613593101501(casey)',\n",
       " '#combine:0=15.191604197025299(carl)',\n",
       " '#combine:0=13.499516248703003(political)',\n",
       " '#combine:0=12.986256182193756(foster)',\n",
       " '#combine:0=11.778303235769272(spencer)',\n",
       " '#combine:0=11.517547070980072(warren)',\n",
       " '#combine:0=10.203468054533005(bart)',\n",
       " '#combine:0=10.026945173740387(medical)',\n",
       " '#combine:0=10.026945173740387(israel)',\n",
       " '#combine:0=9.584271162748337(ryan)',\n",
       " '#combine:0=9.228714555501938(lucy)',\n",
       " '#combine:0=8.961215615272522(chemical)',\n",
       " '#combine:0=8.3342544734478(justin)',\n",
       " '#combine:0=7.7033378183841705(strain)',\n",
       " '#combine:0=7.341018319129944(yet)',\n",
       " '#combine:0=7.341018319129944(matt)',\n",
       " '#combine:0=7.068414986133575(e)',\n",
       " '#combine:0=7.068414986133575(milan)',\n",
       " '#combine:0=6.977381557226181(george)',\n",
       " '#combine:0=6.977381557226181(finance)',\n",
       " '#combine:0=6.520967930555344(perry)',\n",
       " '#combine:0=5.878469347953796(gilbert)',\n",
       " '#combine:0=5.694137513637543(ali)',\n",
       " '#combine:0=5.046287178993225(bond)',\n",
       " '#combine:0=4.767346754670143(madison)',\n",
       " '#combine:0=4.674193635582924(humor)',\n",
       " '#combine:0=2.6976587250828743(joe)',\n",
       " '#combine:0=2.316705882549286(chad)',\n",
       " '#combine:0=1.74254160374403(#base64(IyNjY2k=))',\n",
       " '#combine:0=0.29254043474793434(terry)']"
      ]
     },
     "execution_count": 34,
     "metadata": {},
     "output_type": "execute_result"
    }
   ],
   "source": [
    "out = retr_pipeline.search(\"define covid\")\n",
    "\n",
    "out[\"query\"][0].split(\" \")"
   ]
  },
  {
   "cell_type": "code",
   "execution_count": 35,
   "metadata": {},
   "outputs": [
    {
     "data": {
      "text/plain": [
       "'#combine:0=310.09364128112793(#base64(IyN2aWQ=)) #combine:0=249.07488822937012(co) #combine:0=140.75511693954468(definition) #combine:0=79.1648268699646(biology) #combine:0=76.92760229110718(disorder) #combine:0=76.83706283569336(abbreviation) #combine:0=61.07416749000549(technology) #combine:0=59.25496220588684(meaning) #combine:0=55.682170391082764(anger) #combine:0=52.32481360435486(brian) #combine:0=52.32481360435486(davis) #combine:0=51.043492555618286(harry) #combine:0=50.57345628738403(ian) #combine:0=49.864232540130615(jacob) #combine:0=48.37033152580261(alex) #combine:0=48.31010699272156(fear) #combine:0=47.2198486328125(disease) #combine:0=46.9759464263916(griffin) #combine:0=46.73144817352295(marcus) #combine:0=44.87839937210083(henry) #combine:0=44.25300657749176(morgan) #combine:0=43.49733293056488(#base64(Ig==)) #combine:0=43.434104323387146(carbon) #combine:0=42.86321699619293(government) #combine:0=42.48080551624298(culture) #combine:0=41.7115718126297(communication) #combine:0=41.7115718126297(julian) #combine:0=41.7115718126297(jeremy) #combine:0=40.546512603759766(gary) #combine:0=39.63087201118469(bug) #combine:0=37.907835841178894(daniel) #combine:0=37.907835841178894(heath) #combine:0=34.7847044467926(barry) #combine:0=31.9873183965683(nathan) #combine:0=31.9873183965683(tyler) #combine:0=29.546421766281128(c) #combine:0=29.109421372413635(charlie) #combine:0=27.86078155040741(immunity) #combine:0=25.39152204990387(parker) #combine:0=25.088030099868774(owen) #combine:0=23.633737862110138(benjamin) #combine:0=23.556606471538544(corona) #combine:0=23.17005842924118(buzz) #combine:0=22.079704701900482(bailey) #combine:0=21.214580535888672(science) #combine:0=20.89812457561493(pathogen) #combine:0=20.580662786960602(merlin) #combine:0=19.70241367816925(alexander) #combine:0=19.622190296649933(threat) #combine:0=19.46154683828354(portal) #combine:0=19.381128251552582(lilly) #combine:0=18.978065252304077(gavin) #combine:0=17.34936386346817(peace) #combine:0=16.52495712041855(bradford) #combine:0=15.943801403045654(jakob) #combine:0=15.526613593101501(casey) #combine:0=15.191604197025299(carl) #combine:0=13.499516248703003(political) #combine:0=12.986256182193756(foster) #combine:0=11.778303235769272(spencer) #combine:0=11.517547070980072(warren) #combine:0=10.203468054533005(bart) #combine:0=10.026945173740387(medical) #combine:0=10.026945173740387(israel) #combine:0=9.584271162748337(ryan) #combine:0=9.228714555501938(lucy) #combine:0=8.961215615272522(chemical) #combine:0=8.3342544734478(justin) #combine:0=7.7033378183841705(strain) #combine:0=7.341018319129944(yet) #combine:0=7.341018319129944(matt) #combine:0=7.068414986133575(e) #combine:0=7.068414986133575(milan) #combine:0=6.977381557226181(george) #combine:0=6.977381557226181(finance) #combine:0=6.520967930555344(perry) #combine:0=5.878469347953796(gilbert) #combine:0=5.694137513637543(ali) #combine:0=5.046287178993225(bond) #combine:0=4.767346754670143(madison) #combine:0=4.674193635582924(humor) #combine:0=2.6976587250828743(joe) #combine:0=2.316705882549286(chad) #combine:0=1.74254160374403(#base64(IyNjY2k=)) #combine:0=0.29254043474793434(terry)'"
      ]
     },
     "execution_count": 35,
     "metadata": {},
     "output_type": "execute_result"
    }
   ],
   "source": [
    "out[\"query\"][0]\n"
   ]
  },
  {
   "cell_type": "code",
   "execution_count": 38,
   "metadata": {},
   "outputs": [
    {
     "data": {
      "text/plain": [
       "'##vid'"
      ]
     },
     "execution_count": 38,
     "metadata": {},
     "output_type": "execute_result"
    }
   ],
   "source": [
    "\n",
    "import base64\n",
    "\n",
    "# Decoding the Base64 encoded string\n",
    "encoded_str = \"#base64(IyN2aWQ=)\"\n",
    "decoded_bytes = base64.b64decode(encoded_str.split(\"#base64(\")[1][:-1])\n",
    "decoded_str = decoded_bytes.decode('utf-8')\n",
    "decoded_str"
   ]
  },
  {
   "cell_type": "code",
   "execution_count": 16,
   "metadata": {},
   "outputs": [],
   "source": [
    "dataset = pt.get_dataset('irds:msmarco-passage')"
   ]
  },
  {
   "cell_type": "code",
   "execution_count": 23,
   "metadata": {},
   "outputs": [
    {
     "name": "stderr",
     "output_type": "stream",
     "text": [
      "msmarco-passage documents:   8%|▊         | 747695/8841823 [00:02<00:27, 292384.97it/s]"
     ]
    },
    {
     "name": "stdout",
     "output_type": "stream",
     "text": [
      "{'text': '0º Combiners/Dividers. To Consider When Specifying Your Combiner Isolating Termination Dissipation Isolating terminations enable the dissipation of power due to various unbalances and possible input failures.', 'docno': '747695'}\n"
     ]
    },
    {
     "name": "stderr",
     "output_type": "stream",
     "text": [
      "\n"
     ]
    }
   ],
   "source": [
    "for doc in dataset.get_corpus_iter():\n",
    "    if doc[\"docno\"] == \"747695\":\n",
    "        print(doc)\n",
    "        break"
   ]
  },
  {
   "cell_type": "code",
   "execution_count": 12,
   "metadata": {},
   "outputs": [],
   "source": [
    "import json\n",
    "from collections import defaultdict\n",
    "import pandas as pd\n",
    "\n",
    "qrels = defaultdict(dict)\n",
    "run = {}\n",
    "    \n",
    "with open(f\"beir_datasets/msmarco/relevant_pairs.jsonl\") as f:\n",
    "    for i, q_data in enumerate(map(json.loads, f)):\n",
    "        run[q_data[\"id\"]] = q_data[\"question\"]\n",
    "        qrels[q_data[\"id\"]][q_data[\"doc_id\"]] = 1\n",
    "\n",
    "        \n",
    "question_ids, questions = list(zip(*run.items()))\n",
    "\n",
    "questions_dataframe = pd.DataFrame([{\"qid\":i, \"query\":question.lower()} for i,question in enumerate(questions)])"
   ]
  },
  {
   "cell_type": "code",
   "execution_count": 8,
   "metadata": {},
   "outputs": [],
   "source": [
    "dfs = []\n",
    "for out_df in splade.query().transform_gen(questions_dataframe, batch_size=16):\n",
    "    dfs.append(out_df)"
   ]
  },
  {
   "cell_type": "code",
   "execution_count": 11,
   "metadata": {},
   "outputs": [],
   "source": [
    "out_df = pd.concat(dfs)"
   ]
  },
  {
   "cell_type": "code",
   "execution_count": 12,
   "metadata": {},
   "outputs": [],
   "source": [
    "out_df.to_csv(\"msmarco-passage-splade-pisa/questions_tokinezed\")"
   ]
  },
  {
   "cell_type": "code",
   "execution_count": 13,
   "metadata": {},
   "outputs": [
    {
     "data": {
      "text/html": [
       "<div>\n",
       "<style scoped>\n",
       "    .dataframe tbody tr th:only-of-type {\n",
       "        vertical-align: middle;\n",
       "    }\n",
       "\n",
       "    .dataframe tbody tr th {\n",
       "        vertical-align: top;\n",
       "    }\n",
       "\n",
       "    .dataframe thead th {\n",
       "        text-align: right;\n",
       "    }\n",
       "</style>\n",
       "<table border=\"1\" class=\"dataframe\">\n",
       "  <thead>\n",
       "    <tr style=\"text-align: right;\">\n",
       "      <th></th>\n",
       "      <th>Unnamed: 0</th>\n",
       "      <th>qid</th>\n",
       "      <th>query_0</th>\n",
       "      <th>query</th>\n",
       "    </tr>\n",
       "  </thead>\n",
       "  <tbody>\n",
       "    <tr>\n",
       "      <th>0</th>\n",
       "      <td>0</td>\n",
       "      <td>0</td>\n",
       "      <td>how many years did william bradford serve as g...</td>\n",
       "      <td>#combine:0=224.13744926452637(bradford) #combi...</td>\n",
       "    </tr>\n",
       "    <tr>\n",
       "      <th>1</th>\n",
       "      <td>1</td>\n",
       "      <td>1</td>\n",
       "      <td>define preventive</td>\n",
       "      <td>#combine:0=271.3244915008545(prevent) #combine...</td>\n",
       "    </tr>\n",
       "    <tr>\n",
       "      <th>2</th>\n",
       "      <td>2</td>\n",
       "      <td>2</td>\n",
       "      <td>color overlay photoshop</td>\n",
       "      <td>#combine:0=264.2400026321411(color) #combine:0...</td>\n",
       "    </tr>\n",
       "    <tr>\n",
       "      <th>3</th>\n",
       "      <td>3</td>\n",
       "      <td>3</td>\n",
       "      <td>____________________ is considered the father ...</td>\n",
       "      <td>#combine:0=243.89445781707764(modern) #combine...</td>\n",
       "    </tr>\n",
       "    <tr>\n",
       "      <th>4</th>\n",
       "      <td>4</td>\n",
       "      <td>4</td>\n",
       "      <td>does xpress bet charge to deposit money in you...</td>\n",
       "      <td>#combine:0=246.45178318023682(xp) #combine:0=2...</td>\n",
       "    </tr>\n",
       "    <tr>\n",
       "      <th>...</th>\n",
       "      <td>...</td>\n",
       "      <td>...</td>\n",
       "      <td>...</td>\n",
       "      <td>...</td>\n",
       "    </tr>\n",
       "    <tr>\n",
       "      <th>6975</th>\n",
       "      <td>6975</td>\n",
       "      <td>6975</td>\n",
       "      <td>difference between discrete and process manufa...</td>\n",
       "      <td>#combine:0=252.5728702545166(discrete) #combin...</td>\n",
       "    </tr>\n",
       "    <tr>\n",
       "      <th>6976</th>\n",
       "      <td>6976</td>\n",
       "      <td>6976</td>\n",
       "      <td>how long did abraham lincoln serve</td>\n",
       "      <td>#combine:0=308.31992626190186(lincoln) #combin...</td>\n",
       "    </tr>\n",
       "    <tr>\n",
       "      <th>6977</th>\n",
       "      <td>6977</td>\n",
       "      <td>6977</td>\n",
       "      <td>does adult acne rosacea give you blepharitis</td>\n",
       "      <td>#combine:0=197.66818284988403(adult) #combine:...</td>\n",
       "    </tr>\n",
       "    <tr>\n",
       "      <th>6978</th>\n",
       "      <td>6978</td>\n",
       "      <td>6978</td>\n",
       "      <td>how long do you bake muffins</td>\n",
       "      <td>#combine:0=288.68935108184814(#base64(IyNmZmlu...</td>\n",
       "    </tr>\n",
       "    <tr>\n",
       "      <th>6979</th>\n",
       "      <td>6979</td>\n",
       "      <td>6979</td>\n",
       "      <td>glioma meaning</td>\n",
       "      <td>#combine:0=263.84992599487305(#base64(IyNsaW8=...</td>\n",
       "    </tr>\n",
       "  </tbody>\n",
       "</table>\n",
       "<p>6980 rows × 4 columns</p>\n",
       "</div>"
      ],
      "text/plain": [
       "      Unnamed: 0   qid                                            query_0  \\\n",
       "0              0     0  how many years did william bradford serve as g...   \n",
       "1              1     1                                  define preventive   \n",
       "2              2     2                            color overlay photoshop   \n",
       "3              3     3  ____________________ is considered the father ...   \n",
       "4              4     4  does xpress bet charge to deposit money in you...   \n",
       "...          ...   ...                                                ...   \n",
       "6975        6975  6975  difference between discrete and process manufa...   \n",
       "6976        6976  6976                 how long did abraham lincoln serve   \n",
       "6977        6977  6977       does adult acne rosacea give you blepharitis   \n",
       "6978        6978  6978                       how long do you bake muffins   \n",
       "6979        6979  6979                                     glioma meaning   \n",
       "\n",
       "                                                  query  \n",
       "0     #combine:0=224.13744926452637(bradford) #combi...  \n",
       "1     #combine:0=271.3244915008545(prevent) #combine...  \n",
       "2     #combine:0=264.2400026321411(color) #combine:0...  \n",
       "3     #combine:0=243.89445781707764(modern) #combine...  \n",
       "4     #combine:0=246.45178318023682(xp) #combine:0=2...  \n",
       "...                                                 ...  \n",
       "6975  #combine:0=252.5728702545166(discrete) #combin...  \n",
       "6976  #combine:0=308.31992626190186(lincoln) #combin...  \n",
       "6977  #combine:0=197.66818284988403(adult) #combine:...  \n",
       "6978  #combine:0=288.68935108184814(#base64(IyNmZmlu...  \n",
       "6979  #combine:0=263.84992599487305(#base64(IyNsaW8=...  \n",
       "\n",
       "[6980 rows x 4 columns]"
      ]
     },
     "execution_count": 13,
     "metadata": {},
     "output_type": "execute_result"
    }
   ],
   "source": []
  },
  {
   "cell_type": "code",
   "execution_count": 30,
   "metadata": {},
   "outputs": [],
   "source": [
    "query_reps = splade.model(q_kwargs=splade.tokenizer(\n",
    "                        \"Now this is big long question how this thing will work now?\",\n",
    "                        add_special_tokens=True,\n",
    "                        padding=\"longest\",  # pad to max sequence length in batch\n",
    "                        truncation=\"longest_first\",  # truncates to max model length,\n",
    "                        max_length=splade.max_length,\n",
    "                        return_attention_mask=True,\n",
    "                        return_tensors=\"pt\",\n",
    "                    ).to(splade.device))[\"q_rep\"]"
   ]
  },
  {
   "cell_type": "code",
   "execution_count": 31,
   "metadata": {},
   "outputs": [
    {
     "data": {
      "text/plain": [
       "torch.Size([1, 30522])"
      ]
     },
     "execution_count": 31,
     "metadata": {},
     "output_type": "execute_result"
    }
   ],
   "source": [
    "query_reps.shape"
   ]
  },
  {
   "cell_type": "code",
   "execution_count": 32,
   "metadata": {},
   "outputs": [],
   "source": [
    "import torch\n",
    "\n",
    "cols = torch.nonzero(query_reps[0]).squeeze().cpu().tolist()\n",
    "# and corresponding weights               \n",
    "weights = query_reps[0,cols].cpu().tolist()"
   ]
  },
  {
   "cell_type": "code",
   "execution_count": 33,
   "metadata": {},
   "outputs": [
    {
     "data": {
      "text/plain": [
       "69"
      ]
     },
     "execution_count": 33,
     "metadata": {},
     "output_type": "execute_result"
    }
   ],
   "source": [
    "len(cols)"
   ]
  },
  {
   "cell_type": "code",
   "execution_count": 34,
   "metadata": {},
   "outputs": [
    {
     "data": {
      "text/plain": [
       "69"
      ]
     },
     "execution_count": 34,
     "metadata": {},
     "output_type": "execute_result"
    }
   ],
   "source": [
    "len(weights)"
   ]
  },
  {
   "cell_type": "code",
   "execution_count": null,
   "metadata": {},
   "outputs": [],
   "source": []
  },
  {
   "cell_type": "code",
   "execution_count": 39,
   "metadata": {},
   "outputs": [],
   "source": [
    "import numpy as np\n",
    "\n"
   ]
  },
  {
   "cell_type": "code",
   "execution_count": 43,
   "metadata": {},
   "outputs": [],
   "source": [
    "#m = np.memmap('msmarco-passage-splade-pisa/fwd', mode='r', dtype=np.uint32)\n",
    "lexicon = [l.strip() for l in open('msmarco-passage-splade-pisa/fwd.terms','rt')]"
   ]
  },
  {
   "cell_type": "code",
   "execution_count": 27,
   "metadata": {},
   "outputs": [],
   "source": [
    "import torch\n",
    "with torch.no_grad():\n",
    "    doc_reps = splade.model(d_kwargs=splade.tokenizer(\n",
    "                        doc,\n",
    "                        add_special_tokens=True,\n",
    "                        padding=\"longest\",  # pad to max sequence length in batch\n",
    "                        truncation=\"longest_first\",  # truncates to max model length,\n",
    "                        max_length=splade.max_length,\n",
    "                        return_attention_mask=True,\n",
    "                        return_tensors=\"pt\",\n",
    "                    ).to(splade.device))[\"d_rep\"]\n",
    "    \n",
    "    # for per each question\n",
    "    \n",
    "    cols = torch.nonzero(doc_reps[0]).squeeze().cpu().tolist()\n",
    "    # and corresponding weights               \n",
    "    weights = doc_reps[0,cols].cpu().tolist()\n",
    "    \n",
    "    d = {splade.reverse_voc[k] : v for k, v in sorted(zip(cols, weights), key=lambda x: (-x[1], x[0]))}\n"
   ]
  },
  {
   "cell_type": "code",
   "execution_count": 29,
   "metadata": {},
   "outputs": [],
   "source": []
  },
  {
   "cell_type": "code",
   "execution_count": 30,
   "metadata": {},
   "outputs": [
    {
     "data": {
      "text/plain": [
       "{'iso': 2.170837879180908,\n",
       " 'termination': 1.9991546869277954,\n",
       " 'combine': 1.9783039093017578,\n",
       " 'divide': 1.8066225051879883,\n",
       " '##pati': 1.598440170288086,\n",
       " '##balance': 1.5944828987121582,\n",
       " 'merge': 1.5135806798934937,\n",
       " '##º': 1.4936060905456543,\n",
       " '##ssi': 1.4812493324279785,\n",
       " '##lating': 1.4776906967163086,\n",
       " 'zero': 1.3979449272155762,\n",
       " '0': 1.3730231523513794,\n",
       " 'di': 1.1965231895446777,\n",
       " 'specify': 1.1530905961990356,\n",
       " '##r': 1.0828639268875122,\n",
       " 'terminated': 1.020087480545044,\n",
       " 'input': 1.0030416250228882,\n",
       " 'combination': 0.9944084882736206,\n",
       " 'power': 0.9754437208175659,\n",
       " 'consider': 0.8965662121772766,\n",
       " 'enable': 0.8780695199966431,\n",
       " 'failure': 0.8625272512435913,\n",
       " 'balance': 0.7969439625740051,\n",
       " 'merger': 0.7960633039474487,\n",
       " 'device': 0.7737906575202942,\n",
       " '##rs': 0.755608320236206,\n",
       " 'generator': 0.7124901413917542,\n",
       " 'fail': 0.7047978043556213,\n",
       " 'failures': 0.6902132034301758,\n",
       " 'brake': 0.6813592314720154,\n",
       " 'end': 0.672426164150238,\n",
       " 'ending': 0.6374238729476929,\n",
       " 'un': 0.6118015646934509,\n",
       " 'considerations': 0.6064908504486084,\n",
       " 'equipment': 0.5968599319458008,\n",
       " 'isolation': 0.5952457785606384,\n",
       " 'powers': 0.5685047507286072,\n",
       " 'connection': 0.5398913025856018,\n",
       " 'blade': 0.52266925573349,\n",
       " 'types': 0.5139457583427429,\n",
       " 'switch': 0.4944818615913391,\n",
       " 'split': 0.4891071021556854,\n",
       " 'breaker': 0.47827014327049255,\n",
       " 'electric': 0.472198486328125,\n",
       " 'machine': 0.4673144817352295,\n",
       " 'voltage': 0.46363574266433716,\n",
       " 'vent': 0.4624064862728119,\n",
       " 'balancing': 0.46117570996284485,\n",
       " 'division': 0.4487839937210083,\n",
       " 'divided': 0.44753631949424744,\n",
       " 'electrical': 0.4450363218784332,\n",
       " 'compressor': 0.4400174915790558,\n",
       " 'wire': 0.42926809191703796,\n",
       " 'failed': 0.42353010177612305,\n",
       " 'error': 0.4196864068508148,\n",
       " 'devices': 0.41647201776504517,\n",
       " 'welding': 0.4158279001712799,\n",
       " 'considered': 0.4093637466430664,\n",
       " 'separation': 0.39433568716049194,\n",
       " 'add': 0.3923587501049042,\n",
       " 'terminal': 0.3883931338787079,\n",
       " 'mix': 0.37907835841178894,\n",
       " 'controller': 0.37907835841178894,\n",
       " 'type': 0.3757305145263672,\n",
       " '##er': 0.37371641397476196,\n",
       " 'combined': 0.36426326632499695,\n",
       " 'u': 0.35334911942481995,\n",
       " 'pilot': 0.347847044467926,\n",
       " 'tool': 0.34508460760116577,\n",
       " 'turbine': 0.3416208028793335,\n",
       " 'allow': 0.3297532796859741,\n",
       " 'mixing': 0.3269403576850891,\n",
       " 'cable': 0.3248254358768463,\n",
       " 'output': 0.31204116344451904,\n",
       " 'transform': 0.31204116344451904,\n",
       " '##lated': 0.31132611632347107,\n",
       " 'specified': 0.306306391954422,\n",
       " 'signal': 0.3012613356113434,\n",
       " 'disadvantage': 0.2990913391113281,\n",
       " 'enabling': 0.29473719000816345,\n",
       " 'transmission': 0.2918238639831543,\n",
       " 'plug': 0.2881702482700348,\n",
       " 'reactor': 0.28743788599967957,\n",
       " 'separate': 0.2837681770324707,\n",
       " 'spark': 0.28155985474586487,\n",
       " 'circuit': 0.2719337046146393,\n",
       " 'protection': 0.2674594223499298,\n",
       " 'thermal': 0.2576959431171417,\n",
       " 'compatibility': 0.2531573474407196,\n",
       " 'ideal': 0.25088030099868774,\n",
       " '##itor': 0.25088030099868774,\n",
       " '##ida': 0.2447827309370041,\n",
       " 'instrument': 0.24248650670051575,\n",
       " 'compression': 0.24018502235412598,\n",
       " 'engineering': 0.22937409579753876,\n",
       " 'junction': 0.22859740257263184,\n",
       " 'gage': 0.22001366317272186,\n",
       " 'degree': 0.2089812457561493,\n",
       " 'furnace': 0.20580662786960602,\n",
       " 'use': 0.20501139760017395,\n",
       " 'inputs': 0.2034190446138382,\n",
       " 'module': 0.2018241584300995,\n",
       " 'operation': 0.19541899859905243,\n",
       " 'technique': 0.19381128251552582,\n",
       " 'integration': 0.18816383183002472,\n",
       " 'rating': 0.1873544454574585,\n",
       " '##late': 0.18492233753204346,\n",
       " 'defects': 0.176772341132164,\n",
       " 'possible': 0.1734936386346817,\n",
       " 'transfer': 0.1685553640127182,\n",
       " 'useful': 0.1685553640127182,\n",
       " 'generators': 0.16690383851528168,\n",
       " 'design': 0.16607704758644104,\n",
       " 'roller': 0.16607704758644104,\n",
       " 'discharge': 0.16607704758644104,\n",
       " 'packaging': 0.16524957120418549,\n",
       " 'filter': 0.16442140936851501,\n",
       " 'sensor': 0.16442140936851501,\n",
       " 'errors': 0.15693697333335876,\n",
       " '##s': 0.15275461971759796,\n",
       " '##bility': 0.1510767638683319,\n",
       " 'interference': 0.14602625370025635,\n",
       " 'magnetic': 0.14264501631259918,\n",
       " '##lice': 0.14264501631259918,\n",
       " 'slot': 0.1401015669107437,\n",
       " '##or': 0.13925230503082275,\n",
       " 'adjustment': 0.13499516248703003,\n",
       " 'hazard': 0.129004567861557,\n",
       " 'modulation': 0.12470348179340363,\n",
       " '##ssa': 0.1229778528213501,\n",
       " 'motor': 0.11691460013389587,\n",
       " 'negative': 0.10731173306703568,\n",
       " 'electronics': 0.10731173306703568,\n",
       " '.': 0.1064341589808464,\n",
       " 'er': 0.10379679501056671,\n",
       " 'beam': 0.09672962874174118,\n",
       " 'consolidation': 0.09584271162748337,\n",
       " 'rail': 0.08782484382390976,\n",
       " 'dr': 0.08603433519601822,\n",
       " 'insulation': 0.08244366943836212,\n",
       " 'routing': 0.0797421783208847,\n",
       " 'coupling': 0.0797421783208847,\n",
       " 'rf': 0.06977381557226181,\n",
       " 'machinery': 0.06612417846918106,\n",
       " 'dangerous': 0.056018441915512085,\n",
       " '/': 0.055094651877880096,\n",
       " 'gain': 0.052318159490823746,\n",
       " 'route': 0.04860413447022438,\n",
       " 'mesh': 0.04860413447022438,\n",
       " 'parameters': 0.04767346754670143,\n",
       " 'bond': 0.04487626627087593,\n",
       " '##ffle': 0.04394211992621422,\n",
       " 'technology': 0.04113444685935974,\n",
       " 'convert': 0.04113444685935974,\n",
       " 'button': 0.036437395960092545,\n",
       " 'chip': 0.036437395960092545,\n",
       " 'neutral': 0.030771657824516296,\n",
       " 'dissipated': 0.021256839856505394,\n",
       " 'vacuum': 0.0174254160374403,\n",
       " 'consideration': 0.015504186972975731,\n",
       " '##pate': 0.014542185701429844,\n",
       " 'reduction': 0.013579257763922215,\n",
       " 'connector': 0.012615402229130268,\n",
       " 'various': 0.011650617234408855,\n",
       " ',': 0.0038986403960734606,\n",
       " 'union': 0.0029254043474793434}"
      ]
     },
     "execution_count": 30,
     "metadata": {},
     "output_type": "execute_result"
    }
   ],
   "source": [
    "d"
   ]
  },
  {
   "cell_type": "code",
   "execution_count": 2,
   "metadata": {},
   "outputs": [],
   "source": [
    "dataset = pt.get_dataset('irds:msmarco-passage')"
   ]
  },
  {
   "cell_type": "code",
   "execution_count": 3,
   "metadata": {},
   "outputs": [
    {
     "name": "stderr",
     "output_type": "stream",
     "text": [
      "msmarco-passage documents:   0%|          | 11/8841823 [00:00<05:54, 24952.59it/s]"
     ]
    },
    {
     "name": "stdout",
     "output_type": "stream",
     "text": [
      "0 {'text': 'The presence of communication amid scientific minds was equally important to the success of the Manhattan Project as scientific intellect was. The only cloud hanging over the impressive achievement of the atomic researchers and engineers is what their success truly meant; hundreds of thousands of innocent lives obliterated.', 'docno': '0'}\n",
      "1 {'text': 'The Manhattan Project and its atomic bomb helped bring an end to World War II. Its legacy of peaceful uses of atomic energy continues to have an impact on history and science.', 'docno': '1'}\n",
      "2 {'text': 'Essay on The Manhattan Project - The Manhattan Project The Manhattan Project was to see if making an atomic bomb possible. The success of this project would forever change the world forever making it known that something this powerful can be manmade.', 'docno': '2'}\n",
      "3 {'text': 'The Manhattan Project was the name for a project conducted during World War II, to develop the first atomic bomb. It refers specifically to the period of the project from 194 … 2-1946 under the control of the U.S. Army Corps of Engineers, under the administration of General Leslie R. Groves.', 'docno': '3'}\n",
      "4 {'text': 'versions of each volume as well as complementary websites. The first website–The Manhattan Project: An Interactive History–is available on the Office of History and Heritage Resources website, http://www.cfo. doe.gov/me70/history. The Office of History and Heritage Resources and the National Nuclear Security', 'docno': '4'}\n",
      "5 {'text': 'The Manhattan Project. This once classified photograph features the first atomic bomb — a weapon that atomic scientists had nicknamed Gadget.. The nuclear age began on July 16, 1945, when it was detonated in the New Mexico desert.', 'docno': '5'}\n",
      "6 {'text': 'Nor will it attempt to substitute for the extraordinarily rich literature on the atomic bombs and the end of World War II. This collection does not attempt to document the origins and development of the Manhattan Project.', 'docno': '6'}\n",
      "7 {'text': 'Manhattan Project. The Manhattan Project was a research and development undertaking during World War II that produced the first nuclear weapons. It was led by the United States with the support of the United Kingdom and Canada. From 1942 to 1946, the project was under the direction of Major General Leslie Groves of the U.S. Army Corps of Engineers. Nuclear physicist Robert Oppenheimer was the director of the Los Alamos Laboratory that designed the actual bombs. The Army component of the project was designated the', 'docno': '7'}\n",
      "8 {'text': 'In June 1942, the United States Army Corps of Engineersbegan the Manhattan Project- The secret name for the 2 atomic bombs.', 'docno': '8'}\n",
      "9 {'text': \"One of the main reasons Hanford was selected as a site for the Manhattan Project's B Reactor was its proximity to the Columbia River, the largest river flowing into the Pacific Ocean from the North American coast.\", 'docno': '9'}\n",
      "10 {'text': 'group discussions, community boards or panels with a third party, or victim and offender dialogues, and requires a skilled facilitator who also has sufficient understanding of sexual assault, domestic violence, and dating violence, as well as trauma and safety issues.', 'docno': '10'}\n",
      "11 {'text': \"punishment designed to repair the damage done to the victim and community by an offender's criminal act. Ex: community service, Big Brother program indeterminate sentence\", 'docno': '11'}\n"
     ]
    },
    {
     "name": "stderr",
     "output_type": "stream",
     "text": [
      "\n"
     ]
    }
   ],
   "source": [
    "for i,doc in enumerate(dataset.get_corpus_iter()):\n",
    "    print(i, doc)\n",
    "    if i>10:\n",
    "        break\n",
    "    "
   ]
  },
  {
   "cell_type": "code",
   "execution_count": null,
   "metadata": {},
   "outputs": [],
   "source": []
  }
 ],
 "metadata": {
  "kernelspec": {
   "display_name": "sparse-retrieval-update",
   "language": "python",
   "name": "sparse-retrieval-update"
  },
  "language_info": {
   "codemirror_mode": {
    "name": "ipython",
    "version": 3
   },
   "file_extension": ".py",
   "mimetype": "text/x-python",
   "name": "python",
   "nbconvert_exporter": "python",
   "pygments_lexer": "ipython3",
   "version": "3.10.13"
  },
  "orig_nbformat": 4,
  "vscode": {
   "interpreter": {
    "hash": "978240f255a1a7717cf38a4ff99d111e7a0dea4dde8fb84ad153083e9890b7ec"
   }
  }
 },
 "nbformat": 4,
 "nbformat_minor": 2
}
