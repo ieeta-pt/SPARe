{
 "cells": [
  {
   "cell_type": "code",
   "execution_count": 1,
   "metadata": {},
   "outputs": [],
   "source": [
    "import jax\n",
    "import jax.numpy as jnp\n",
    "from jax.experimental import sparse\n",
    "\n",
    "from tqdm import tqdm\n",
    "import json\n",
    "import os\n",
    "import jsonpickle\n",
    "\n",
    "\n",
    "from pyserini.index.lucene import IndexReader\n",
    "from pyserini.analysis import Analyzer, get_lucene_analyzer\n",
    "\n",
    "from spare.text2vec import BagOfWords\n",
    "\n",
    "from functools import partial\n",
    "#os.environ[\"CUDA_VISIBLE_DEVICES\"]=\"\""
   ]
  },
  {
   "cell_type": "code",
   "execution_count": 2,
   "metadata": {},
   "outputs": [],
   "source": [
    "def scatter(input, dim, index, src, reduce=None):\n",
    "   # Works like PyTorch's scatter. See https://pytorch.org/docs/stable/generated/torch.Tensor.scatter_.html\n",
    "   \n",
    "   dnums = jax.lax.ScatterDimensionNumbers(update_window_dims=(), inserted_window_dims=(0,), scatter_dims_to_operand_dims=(0,))\n",
    "   \n",
    "   if reduce is None:\n",
    "       _scatter = jax.lax.scatter\n",
    "   elif reduce == \"add\":\n",
    "       _scatter = jax.lax.scatter_add\n",
    "   elif reduce == \"multiply\":\n",
    "       _scatter = jax.lax.scatter_mul\n",
    "       \n",
    "   _scatter = partial(_scatter, dimension_numbers=dnums)\n",
    "   vmap_inner = partial(jax.vmap, in_axes=(0, 0, 0), out_axes=0)\n",
    "   vmap_outer = partial(jax.vmap, in_axes=(1, 1, 1), out_axes=1)\n",
    "\n",
    "   for idx in range(len(input.shape)):\n",
    "       if idx == dim:\n",
    "           pass\n",
    "       elif idx < dim:\n",
    "           _scatter = vmap_inner(_scatter)\n",
    "       else:\n",
    "           _scatter = vmap_outer(_scatter)\n",
    "           \n",
    "   return _scatter(input, jnp.expand_dims(index, axis=-1), src)\n",
    "\n"
   ]
  },
  {
   "cell_type": "code",
   "execution_count": 3,
   "metadata": {},
   "outputs": [
    {
     "name": "stdout",
     "output_type": "stream",
     "text": [
      "build token2id dict\n"
     ]
    }
   ],
   "source": [
    "\n",
    "\n",
    "index_reader = IndexReader(f\"beir_datasets/nq/anserini_index\")\n",
    "analyzer = Analyzer(get_lucene_analyzer())\n",
    "\n",
    "print(\"build token2id dict\")\n",
    "token2id = {term.term:i for i,term in enumerate(index_reader.terms())}\n",
    "\n",
    "def tokenizer(text):\n",
    "    tokens_ids = []\n",
    "    for token in analyzer.analyze(text.lower()):\n",
    "        #token_id=token2id[token]\n",
    "        if token in token2id:\n",
    "            tokens_ids.append(token2id[token])\n",
    "        #if token in token2id:\n",
    "        #    token_id=token2id[token]\n",
    "        #    if token_id is not None:\n",
    "        #        tokens_ids.append(token_id)\n",
    "    return tokens_ids\n",
    "\n",
    "vocab_size = len(token2id)\n",
    "\n",
    "bow = BagOfWords(tokenizer, vocab_size)\n",
    "\n",
    "def text2vec(text):\n",
    "    b = bow(text)\n",
    "    \n",
    "    #dense_vec = jnp.zeros((bow.dim,1))\n",
    "    \n",
    "    return scatter(jnp.zeros((bow.dim,)), 0, jnp.array(list(b.keys())), jnp.array(list(b.values()), dtype=jnp.float32))\n"
   ]
  },
  {
   "cell_type": "code",
   "execution_count": 4,
   "metadata": {},
   "outputs": [],
   "source": [
    "\n",
    "with open(\"beir_datasets/nq/csr_anserini_bm25_12_075/class_info.jsonpickle\") as f:\n",
    "    class_vars = jsonpickle.decode(f.read())\n",
    "shape = tuple(class_vars.pop(\"shape\"))\n",
    "devices = jax.devices()"
   ]
  },
  {
   "cell_type": "code",
   "execution_count": 5,
   "metadata": {},
   "outputs": [
    {
     "name": "stderr",
     "output_type": "stream",
     "text": [
      "2023-10-15 23:11:35.369732: W external/xla/xla/service/gpu/nvptx_compiler.cc:703] The NVIDIA driver's CUDA version is 12.0 which is older than the ptxas CUDA version (12.2.140). Because the driver is older than the ptxas version, XLA is disabling parallel compilation, which may slow down compilation. You should update your NVIDIA driver or use the NVIDIA-provided CUDA forward compatibility packages.\n"
     ]
    }
   ],
   "source": [
    "from safetensors import safe_open\n",
    "\n",
    "tensors = {}\n",
    "with safe_open(\"beir_datasets/nq/csr_anserini_bm25_12_075/tensors.safetensors\", framework=\"jax\") as f:\n",
    "    for k in f.keys():\n",
    "        tensors[k] = f.get_tensor(k)"
   ]
  },
  {
   "cell_type": "code",
   "execution_count": 6,
   "metadata": {},
   "outputs": [
    {
     "name": "stdout",
     "output_type": "stream",
     "text": [
      "(2681468, 997027)\n"
     ]
    }
   ],
   "source": [
    "print(shape)\n",
    "csr_matrix = sparse.BCSR((tensors[\"vec_2\"], tensors[\"vec_1\"], tensors[\"vec_0\"] ), shape=shape)"
   ]
  },
  {
   "cell_type": "code",
   "execution_count": 7,
   "metadata": {},
   "outputs": [
    {
     "data": {
      "text/plain": [
       "Array([0., 0., 0., ..., 0., 0., 0.], dtype=float32)"
      ]
     },
     "execution_count": 7,
     "metadata": {},
     "output_type": "execute_result"
    }
   ],
   "source": [
    "vec = text2vec(\"hello, my name is tiago\")\n",
    "vec\n"
   ]
  },
  {
   "cell_type": "code",
   "execution_count": null,
   "metadata": {},
   "outputs": [],
   "source": []
  },
  {
   "cell_type": "code",
   "execution_count": 8,
   "metadata": {},
   "outputs": [],
   "source": [
    "@jax.jit\n",
    "def scores(csr_matrix, vec):\n",
    "    return jax.lax.top_k(sparse.csr_matvec(csr_matrix, vec), k=1000)"
   ]
  },
  {
   "cell_type": "code",
   "execution_count": 9,
   "metadata": {},
   "outputs": [],
   "source": [
    "values, indicies = scores(csr_matrix, vec)"
   ]
  },
  {
   "cell_type": "code",
   "execution_count": 10,
   "metadata": {},
   "outputs": [],
   "source": [
    "with open(f\"beir_datasets/msmarco/relevant_pairs.jsonl\") as f:\n",
    "    questions = list({line[\"question\"] for line in map(json.loads, f)})"
   ]
  },
  {
   "cell_type": "code",
   "execution_count": null,
   "metadata": {},
   "outputs": [],
   "source": [
    "def vec_coo_todense_wscatter(bow, vocab_size):\n",
    "\n",
    "  dnums = jax.lax.ScatterDimensionNumbers(update_window_dims=(), inserted_window_dims=(0,), scatter_dims_to_operand_dims=(0,))\n",
    "  return jax.lax.scatter(jnp.zeros((vocab_size,)), jnp.expand_dims(list(bow.keys()), axis=-1), list(bow.values()), dimension_numbers=dnums)\n"
   ]
  },
  {
   "cell_type": "code",
   "execution_count": 12,
   "metadata": {},
   "outputs": [
    {
     "name": "stderr",
     "output_type": "stream",
     "text": [
      "  0%|          | 0/6980 [00:00<?, ?it/s]\n"
     ]
    },
    {
     "ename": "AttributeError",
     "evalue": "'list' object has no attribute 'block_until_ready'",
     "output_type": "error",
     "traceback": [
      "\u001b[0;31m---------------------------------------------------------------------------\u001b[0m",
      "\u001b[0;31mAttributeError\u001b[0m                            Traceback (most recent call last)",
      "\u001b[1;32m/home/tiagoalmeida/safe_volume/sparse-retrieval/jax.ipynb Cell 12\u001b[0m line \u001b[0;36m1\n\u001b[1;32m      <a href='vscode-notebook-cell://ssh-remote%2B7b22686f73744e616d65223a223278525458323037302d5147227d/home/tiagoalmeida/safe_volume/sparse-retrieval/jax.ipynb#X14sdnNjb2RlLXJlbW90ZQ%3D%3D?line=6'>7</a>\u001b[0m     q_vec \u001b[39m=\u001b[39m text2vec(question)\n\u001b[1;32m      <a href='vscode-notebook-cell://ssh-remote%2B7b22686f73744e616d65223a223278525458323037302d5147227d/home/tiagoalmeida/safe_volume/sparse-retrieval/jax.ipynb#X14sdnNjb2RlLXJlbW90ZQ%3D%3D?line=8'>9</a>\u001b[0m     s \u001b[39m=\u001b[39m time\u001b[39m.\u001b[39mtime()\n\u001b[0;32m---> <a href='vscode-notebook-cell://ssh-remote%2B7b22686f73744e616d65223a223278525458323037302d5147227d/home/tiagoalmeida/safe_volume/sparse-retrieval/jax.ipynb#X14sdnNjb2RlLXJlbW90ZQ%3D%3D?line=9'>10</a>\u001b[0m     scores(csr_matrix, q_vec)\u001b[39m.\u001b[39mblock_until_ready()\n\u001b[1;32m     <a href='vscode-notebook-cell://ssh-remote%2B7b22686f73744e616d65223a223278525458323037302d5147227d/home/tiagoalmeida/safe_volume/sparse-retrieval/jax.ipynb#X14sdnNjb2RlLXJlbW90ZQ%3D%3D?line=10'>11</a>\u001b[0m     timer \u001b[39m+\u001b[39m\u001b[39m=\u001b[39m time\u001b[39m.\u001b[39mtime()\u001b[39m-\u001b[39ms\n\u001b[1;32m     <a href='vscode-notebook-cell://ssh-remote%2B7b22686f73744e616d65223a223278525458323037302d5147227d/home/tiagoalmeida/safe_volume/sparse-retrieval/jax.ipynb#X14sdnNjb2RlLXJlbW90ZQ%3D%3D?line=12'>13</a>\u001b[0m \u001b[39mlen\u001b[39m(questions)\u001b[39m/\u001b[39mtimer\n",
      "\u001b[0;31mAttributeError\u001b[0m: 'list' object has no attribute 'block_until_ready'"
     ]
    }
   ],
   "source": [
    "import time\n",
    "\n",
    "timer = 0\n",
    "\n",
    "for question in tqdm(questions):\n",
    "    \n",
    "    q_vec = text2vec(question)\n",
    "    \n",
    "    s = time.time()\n",
    "    scores(csr_matrix, q_vec)\n",
    "    timer += time.time()-s\n",
    "\n",
    "len(questions)/timer"
   ]
  },
  {
   "cell_type": "code",
   "execution_count": 44,
   "metadata": {},
   "outputs": [
    {
     "name": "stdout",
     "output_type": "stream",
     "text": [
      "(3, 2) (3,)\n"
     ]
    }
   ],
   "source": [
    "indices = [1,3,5]\n",
    "indices = jnp.array([indices,[1]*len(indices)]).T\n",
    "data = jnp.array([20,1,1], dtype=jnp.float32)\n",
    "print(indices.shape, data.shape)\n",
    "vec = sparse.BCOO((data, indices), shape=(6,1))"
   ]
  },
  {
   "cell_type": "code",
   "execution_count": 49,
   "metadata": {},
   "outputs": [
    {
     "ename": "AttributeError",
     "evalue": "'int' object has no attribute 'update_window_dims'",
     "output_type": "error",
     "traceback": [
      "\u001b[0;31m---------------------------------------------------------------------------\u001b[0m",
      "\u001b[0;31mAttributeError\u001b[0m                            Traceback (most recent call last)",
      "Cell \u001b[0;32mIn [49], line 28\u001b[0m\n\u001b[1;32m     25\u001b[0m    \u001b[39mreturn\u001b[39;00m _scatter(\u001b[39minput\u001b[39m, jnp\u001b[39m.\u001b[39mexpand_dims(index, axis\u001b[39m=\u001b[39m\u001b[39m-\u001b[39m\u001b[39m1\u001b[39m), src)\n\u001b[1;32m     27\u001b[0m \u001b[39m#scatter(jnp.zeros(6,), 0, jnp.array([1,3,5]), jnp.array([20,1,1], dtype=jnp.float32))\u001b[39;00m\n\u001b[0;32m---> 28\u001b[0m jax\u001b[39m.\u001b[39mlax\u001b[39m.\u001b[39mscatter(jnp\u001b[39m.\u001b[39mzeros(\u001b[39m6\u001b[39m,), jnp\u001b[39m.\u001b[39marray([\u001b[39m1\u001b[39m,\u001b[39m3\u001b[39m,\u001b[39m5\u001b[39m]), jnp\u001b[39m.\u001b[39marray([\u001b[39m20\u001b[39m,\u001b[39m1\u001b[39m,\u001b[39m1\u001b[39m], dtype\u001b[39m=\u001b[39mjnp\u001b[39m.\u001b[39mfloat32), \u001b[39m0\u001b[39m)\n",
      "File \u001b[0;32m~/.local/lib/python3.10/site-packages/jax/_src/lax/slicing.py:677\u001b[0m, in \u001b[0;36mscatter\u001b[0;34m(operand, scatter_indices, updates, dimension_numbers, indices_are_sorted, unique_indices, mode)\u001b[0m\n\u001b[1;32m    635\u001b[0m \u001b[39mdef\u001b[39;00m \u001b[39mscatter\u001b[39m(\n\u001b[1;32m    636\u001b[0m   operand: ArrayLike, scatter_indices: ArrayLike, updates: ArrayLike,\n\u001b[1;32m    637\u001b[0m   dimension_numbers: ScatterDimensionNumbers, \u001b[39m*\u001b[39m,\n\u001b[1;32m    638\u001b[0m   indices_are_sorted: \u001b[39mbool\u001b[39m \u001b[39m=\u001b[39m \u001b[39mFalse\u001b[39;00m, unique_indices: \u001b[39mbool\u001b[39m \u001b[39m=\u001b[39m \u001b[39mFalse\u001b[39;00m,\n\u001b[1;32m    639\u001b[0m   mode: Optional[Union[\u001b[39mstr\u001b[39m, GatherScatterMode]] \u001b[39m=\u001b[39m \u001b[39mNone\u001b[39;00m) \u001b[39m-\u001b[39m\u001b[39m>\u001b[39m Array:\n\u001b[1;32m    640\u001b[0m   \u001b[39m\"\"\"Scatter-update operator.\u001b[39;00m\n\u001b[1;32m    641\u001b[0m \n\u001b[1;32m    642\u001b[0m \u001b[39m  Wraps `XLA's Scatter operator\u001b[39;00m\n\u001b[0;32m   (...)\u001b[0m\n\u001b[1;32m    675\u001b[0m \u001b[39m    An array containing the sum of `operand` and the scattered updates.\u001b[39;00m\n\u001b[1;32m    676\u001b[0m \u001b[39m  \"\"\"\u001b[39;00m\n\u001b[0;32m--> 677\u001b[0m   \u001b[39mreturn\u001b[39;00m scatter_p\u001b[39m.\u001b[39;49mbind(\n\u001b[1;32m    678\u001b[0m       operand, scatter_indices, updates, update_jaxpr\u001b[39m=\u001b[39;49m\u001b[39mNone\u001b[39;49;00m,\n\u001b[1;32m    679\u001b[0m       update_consts\u001b[39m=\u001b[39;49m(), dimension_numbers\u001b[39m=\u001b[39;49mdimension_numbers,\n\u001b[1;32m    680\u001b[0m       indices_are_sorted\u001b[39m=\u001b[39;49mindices_are_sorted, unique_indices\u001b[39m=\u001b[39;49munique_indices,\n\u001b[1;32m    681\u001b[0m       mode\u001b[39m=\u001b[39;49mGatherScatterMode\u001b[39m.\u001b[39;49mfrom_any(mode))\n",
      "File \u001b[0;32m~/.local/lib/python3.10/site-packages/jax/_src/core.py:386\u001b[0m, in \u001b[0;36mPrimitive.bind\u001b[0;34m(self, *args, **params)\u001b[0m\n\u001b[1;32m    383\u001b[0m \u001b[39mdef\u001b[39;00m \u001b[39mbind\u001b[39m(\u001b[39mself\u001b[39m, \u001b[39m*\u001b[39margs, \u001b[39m*\u001b[39m\u001b[39m*\u001b[39mparams):\n\u001b[1;32m    384\u001b[0m   \u001b[39massert\u001b[39;00m (\u001b[39mnot\u001b[39;00m config\u001b[39m.\u001b[39mjax_enable_checks \u001b[39mor\u001b[39;00m\n\u001b[1;32m    385\u001b[0m           \u001b[39mall\u001b[39m(\u001b[39misinstance\u001b[39m(arg, Tracer) \u001b[39mor\u001b[39;00m valid_jaxtype(arg) \u001b[39mfor\u001b[39;00m arg \u001b[39min\u001b[39;00m args)), args\n\u001b[0;32m--> 386\u001b[0m   \u001b[39mreturn\u001b[39;00m \u001b[39mself\u001b[39;49m\u001b[39m.\u001b[39;49mbind_with_trace(find_top_trace(args), args, params)\n",
      "File \u001b[0;32m~/.local/lib/python3.10/site-packages/jax/_src/core.py:389\u001b[0m, in \u001b[0;36mPrimitive.bind_with_trace\u001b[0;34m(self, trace, args, params)\u001b[0m\n\u001b[1;32m    388\u001b[0m \u001b[39mdef\u001b[39;00m \u001b[39mbind_with_trace\u001b[39m(\u001b[39mself\u001b[39m, trace, args, params):\n\u001b[0;32m--> 389\u001b[0m   out \u001b[39m=\u001b[39m trace\u001b[39m.\u001b[39;49mprocess_primitive(\u001b[39mself\u001b[39;49m, \u001b[39mmap\u001b[39;49m(trace\u001b[39m.\u001b[39;49mfull_raise, args), params)\n\u001b[1;32m    390\u001b[0m   \u001b[39mreturn\u001b[39;00m \u001b[39mmap\u001b[39m(full_lower, out) \u001b[39mif\u001b[39;00m \u001b[39mself\u001b[39m\u001b[39m.\u001b[39mmultiple_results \u001b[39melse\u001b[39;00m full_lower(out)\n",
      "File \u001b[0;32m~/.local/lib/python3.10/site-packages/jax/_src/core.py:869\u001b[0m, in \u001b[0;36mEvalTrace.process_primitive\u001b[0;34m(self, primitive, tracers, params)\u001b[0m\n\u001b[1;32m    868\u001b[0m \u001b[39mdef\u001b[39;00m \u001b[39mprocess_primitive\u001b[39m(\u001b[39mself\u001b[39m, primitive, tracers, params):\n\u001b[0;32m--> 869\u001b[0m   \u001b[39mreturn\u001b[39;00m primitive\u001b[39m.\u001b[39;49mimpl(\u001b[39m*\u001b[39;49mtracers, \u001b[39m*\u001b[39;49m\u001b[39m*\u001b[39;49mparams)\n",
      "File \u001b[0;32m~/.local/lib/python3.10/site-packages/jax/_src/dispatch.py:128\u001b[0m, in \u001b[0;36mapply_primitive\u001b[0;34m(prim, *args, **params)\u001b[0m\n\u001b[1;32m    126\u001b[0m   in_avals, in_shardings \u001b[39m=\u001b[39m util\u001b[39m.\u001b[39munzip2([_arg_spec(a) \u001b[39mfor\u001b[39;00m a \u001b[39min\u001b[39;00m args])\n\u001b[1;32m    127\u001b[0m   in_tree \u001b[39m=\u001b[39m tree_util\u001b[39m.\u001b[39mtree_structure(args)\n\u001b[0;32m--> 128\u001b[0m   compiled_fun \u001b[39m=\u001b[39m xla_primitive_callable(\n\u001b[1;32m    129\u001b[0m       prim, in_avals, in_tree, OrigShardings(in_shardings), \u001b[39m*\u001b[39;49m\u001b[39m*\u001b[39;49mparams)\n\u001b[1;32m    130\u001b[0m \u001b[39mexcept\u001b[39;00m pxla\u001b[39m.\u001b[39mDeviceAssignmentMismatchError \u001b[39mas\u001b[39;00m e:\n\u001b[1;32m    131\u001b[0m   fails, \u001b[39m=\u001b[39m e\u001b[39m.\u001b[39margs\n",
      "File \u001b[0;32m~/.local/lib/python3.10/site-packages/jax/_src/util.py:263\u001b[0m, in \u001b[0;36mcache.<locals>.wrap.<locals>.wrapper\u001b[0;34m(*args, **kwargs)\u001b[0m\n\u001b[1;32m    261\u001b[0m   \u001b[39mreturn\u001b[39;00m f(\u001b[39m*\u001b[39margs, \u001b[39m*\u001b[39m\u001b[39m*\u001b[39mkwargs)\n\u001b[1;32m    262\u001b[0m \u001b[39melse\u001b[39;00m:\n\u001b[0;32m--> 263\u001b[0m   \u001b[39mreturn\u001b[39;00m cached(config\u001b[39m.\u001b[39;49m_trace_context(), \u001b[39m*\u001b[39;49margs, \u001b[39m*\u001b[39;49m\u001b[39m*\u001b[39;49mkwargs)\n",
      "File \u001b[0;32m~/.local/lib/python3.10/site-packages/jax/_src/util.py:256\u001b[0m, in \u001b[0;36mcache.<locals>.wrap.<locals>.cached\u001b[0;34m(_, *args, **kwargs)\u001b[0m\n\u001b[1;32m    254\u001b[0m \u001b[39m@functools\u001b[39m\u001b[39m.\u001b[39mlru_cache(max_size)\n\u001b[1;32m    255\u001b[0m \u001b[39mdef\u001b[39;00m \u001b[39mcached\u001b[39m(_, \u001b[39m*\u001b[39margs, \u001b[39m*\u001b[39m\u001b[39m*\u001b[39mkwargs):\n\u001b[0;32m--> 256\u001b[0m   \u001b[39mreturn\u001b[39;00m f(\u001b[39m*\u001b[39;49margs, \u001b[39m*\u001b[39;49m\u001b[39m*\u001b[39;49mkwargs)\n",
      "File \u001b[0;32m~/.local/lib/python3.10/site-packages/jax/_src/dispatch.py:157\u001b[0m, in \u001b[0;36mxla_primitive_callable\u001b[0;34m(prim, in_avals, in_tree, orig_in_shardings, **params)\u001b[0m\n\u001b[1;32m    155\u001b[0m wrapped_fun \u001b[39m=\u001b[39m lu\u001b[39m.\u001b[39mwrap_init(prim_fun)\n\u001b[1;32m    156\u001b[0m flat_fun, out_tree \u001b[39m=\u001b[39m api_util\u001b[39m.\u001b[39mflatten_fun_nokwargs(wrapped_fun, in_tree)\n\u001b[0;32m--> 157\u001b[0m computation \u001b[39m=\u001b[39m sharded_lowering(\n\u001b[1;32m    158\u001b[0m     flat_fun, prim\u001b[39m.\u001b[39;49mname, donated_invars, keep_unused\u001b[39m=\u001b[39;49m\u001b[39mFalse\u001b[39;49;00m,\n\u001b[1;32m    159\u001b[0m     inline\u001b[39m=\u001b[39;49m\u001b[39mTrue\u001b[39;49;00m, in_avals\u001b[39m=\u001b[39;49min_avals, in_shardings\u001b[39m=\u001b[39;49morig_in_shardings\u001b[39m.\u001b[39;49mshardings,\n\u001b[1;32m    160\u001b[0m     lowering_parameters\u001b[39m=\u001b[39;49mmlir\u001b[39m.\u001b[39;49mLoweringParameters())\n\u001b[1;32m    161\u001b[0m compiled \u001b[39m=\u001b[39m computation\u001b[39m.\u001b[39mcompile()\n\u001b[1;32m    162\u001b[0m \u001b[39mif\u001b[39;00m xla_extension_version \u001b[39m>\u001b[39m\u001b[39m=\u001b[39m \u001b[39m192\u001b[39m:\n",
      "File \u001b[0;32m~/.local/lib/python3.10/site-packages/jax/_src/dispatch.py:188\u001b[0m, in \u001b[0;36msharded_lowering\u001b[0;34m(fun, name, donated_invars, keep_unused, inline, in_avals, in_shardings, lowering_parameters)\u001b[0m\n\u001b[1;32m    183\u001b[0m in_shardings_unspec \u001b[39m=\u001b[39m [UNSPECIFIED \u001b[39mif\u001b[39;00m i \u001b[39mis\u001b[39;00m \u001b[39mNone\u001b[39;00m \u001b[39melse\u001b[39;00m i \u001b[39mfor\u001b[39;00m i \u001b[39min\u001b[39;00m in_shardings]\n\u001b[1;32m    185\u001b[0m \u001b[39m# Pass in a singleton `UNSPECIFIED` for out_shardings because we don't know\u001b[39;00m\n\u001b[1;32m    186\u001b[0m \u001b[39m# the number of output avals at this stage. lower_sharding_computation will\u001b[39;00m\n\u001b[1;32m    187\u001b[0m \u001b[39m# apply it to all out_avals.\u001b[39;00m\n\u001b[0;32m--> 188\u001b[0m \u001b[39mreturn\u001b[39;00m pxla\u001b[39m.\u001b[39;49mlower_sharding_computation(\n\u001b[1;32m    189\u001b[0m     fun, \u001b[39m'\u001b[39;49m\u001b[39mjit\u001b[39;49m\u001b[39m'\u001b[39;49m, name, in_shardings_unspec, UNSPECIFIED, donated_invars,\n\u001b[1;32m    190\u001b[0m     in_avals, keep_unused\u001b[39m=\u001b[39;49mkeep_unused, inline\u001b[39m=\u001b[39;49minline,\n\u001b[1;32m    191\u001b[0m     devices_from_context\u001b[39m=\u001b[39;49m\u001b[39mNone\u001b[39;49;00m,\n\u001b[1;32m    192\u001b[0m     lowering_parameters\u001b[39m=\u001b[39;49mlowering_parameters)\n",
      "File \u001b[0;32m~/.local/lib/python3.10/site-packages/jax/_src/profiler.py:314\u001b[0m, in \u001b[0;36mannotate_function.<locals>.wrapper\u001b[0;34m(*args, **kwargs)\u001b[0m\n\u001b[1;32m    311\u001b[0m \u001b[39m@wraps\u001b[39m(func)\n\u001b[1;32m    312\u001b[0m \u001b[39mdef\u001b[39;00m \u001b[39mwrapper\u001b[39m(\u001b[39m*\u001b[39margs, \u001b[39m*\u001b[39m\u001b[39m*\u001b[39mkwargs):\n\u001b[1;32m    313\u001b[0m   \u001b[39mwith\u001b[39;00m TraceAnnotation(name, \u001b[39m*\u001b[39m\u001b[39m*\u001b[39mdecorator_kwargs):\n\u001b[0;32m--> 314\u001b[0m     \u001b[39mreturn\u001b[39;00m func(\u001b[39m*\u001b[39;49margs, \u001b[39m*\u001b[39;49m\u001b[39m*\u001b[39;49mkwargs)\n\u001b[1;32m    315\u001b[0m   \u001b[39mreturn\u001b[39;00m wrapper\n",
      "File \u001b[0;32m~/.local/lib/python3.10/site-packages/jax/_src/interpreters/pxla.py:1989\u001b[0m, in \u001b[0;36mlower_sharding_computation\u001b[0;34m(fun_or_jaxpr, api_name, fun_name, in_shardings, out_shardings, donated_invars, global_in_avals, keep_unused, inline, devices_from_context, lowering_parameters)\u001b[0m\n\u001b[1;32m   1983\u001b[0m \u001b[39m# 1. Trace to jaxpr and preprocess/verify it\u001b[39;00m\n\u001b[1;32m   1984\u001b[0m auto_spmd_lowering \u001b[39m=\u001b[39m (\n\u001b[1;32m   1985\u001b[0m     check_if_any_auto(in_shardings) \u001b[39mif\u001b[39;00m is_unspecified(out_shardings) \u001b[39melse\u001b[39;00m\n\u001b[1;32m   1986\u001b[0m     check_if_any_auto(it\u001b[39m.\u001b[39mchain\u001b[39m.\u001b[39mfrom_iterable([in_shardings, out_shardings])))  \u001b[39m# type: ignore\u001b[39;00m\n\u001b[1;32m   1988\u001b[0m (closed_jaxpr, global_in_avals, global_out_avals, donated_invars,\n\u001b[0;32m-> 1989\u001b[0m  kept_var_idx, name_stack) \u001b[39m=\u001b[39m _trace_to_jaxpr_and_dce(\n\u001b[1;32m   1990\u001b[0m     fun_or_jaxpr, global_in_avals, api_name, fun_name, keep_unused,\n\u001b[1;32m   1991\u001b[0m     donated_invars, auto_spmd_lowering)\n\u001b[1;32m   1992\u001b[0m jaxpr \u001b[39m=\u001b[39m closed_jaxpr\u001b[39m.\u001b[39mjaxpr\n\u001b[1;32m   1993\u001b[0m in_shardings \u001b[39m=\u001b[39m \u001b[39mtuple\u001b[39m(s \u001b[39mfor\u001b[39;00m i, s \u001b[39min\u001b[39;00m \u001b[39menumerate\u001b[39m(in_shardings) \u001b[39mif\u001b[39;00m i \u001b[39min\u001b[39;00m kept_var_idx)\n",
      "File \u001b[0;32m~/.local/lib/python3.10/site-packages/jax/_src/interpreters/pxla.py:1690\u001b[0m, in \u001b[0;36mcache_wrap.<locals>.wrapped\u001b[0;34m(f, *args, **kwargs)\u001b[0m\n\u001b[1;32m   1688\u001b[0m \u001b[39mdef\u001b[39;00m \u001b[39mwrapped\u001b[39m(f, \u001b[39m*\u001b[39margs, \u001b[39m*\u001b[39m\u001b[39m*\u001b[39mkwargs):\n\u001b[1;32m   1689\u001b[0m   \u001b[39mif\u001b[39;00m \u001b[39misinstance\u001b[39m(f, lu\u001b[39m.\u001b[39mWrappedFun):\n\u001b[0;32m-> 1690\u001b[0m     \u001b[39mreturn\u001b[39;00m _wrapped_with_lu_cache(f, \u001b[39m*\u001b[39;49margs, \u001b[39m*\u001b[39;49m\u001b[39m*\u001b[39;49mkwargs)\n\u001b[1;32m   1691\u001b[0m   \u001b[39melse\u001b[39;00m:\n\u001b[1;32m   1692\u001b[0m     \u001b[39mreturn\u001b[39;00m _wrapped_with_weakref_lru_cache(f, \u001b[39m*\u001b[39margs, \u001b[39m*\u001b[39m\u001b[39m*\u001b[39mkwargs)\n",
      "File \u001b[0;32m~/.local/lib/python3.10/site-packages/jax/_src/linear_util.py:348\u001b[0m, in \u001b[0;36mcache.<locals>.memoized_fun\u001b[0;34m(fun, *args)\u001b[0m\n\u001b[1;32m    346\u001b[0m   fun\u001b[39m.\u001b[39mpopulate_stores(stores)\n\u001b[1;32m    347\u001b[0m \u001b[39melse\u001b[39;00m:\n\u001b[0;32m--> 348\u001b[0m   ans \u001b[39m=\u001b[39m call(fun, \u001b[39m*\u001b[39;49margs)\n\u001b[1;32m    349\u001b[0m   cache[key] \u001b[39m=\u001b[39m (ans, fun\u001b[39m.\u001b[39mstores)\n\u001b[1;32m    351\u001b[0m \u001b[39mreturn\u001b[39;00m ans\n",
      "File \u001b[0;32m~/.local/lib/python3.10/site-packages/jax/_src/interpreters/pxla.py:1715\u001b[0m, in \u001b[0;36m_trace_to_jaxpr_and_dce\u001b[0;34m(fun_or_jaxpr, global_in_avals, api_name, fun_name, keep_unused, donated_invars, auto_spmd_lowering)\u001b[0m\n\u001b[1;32m   1711\u001b[0m \u001b[39mif\u001b[39;00m \u001b[39misinstance\u001b[39m(fun_or_jaxpr, lu\u001b[39m.\u001b[39mWrappedFun):\n\u001b[1;32m   1712\u001b[0m   \u001b[39mwith\u001b[39;00m dispatch\u001b[39m.\u001b[39mlog_elapsed_time(\n\u001b[1;32m   1713\u001b[0m       \u001b[39m\"\u001b[39m\u001b[39mFinished tracing + transforming \u001b[39m\u001b[39m{fun_name}\u001b[39;00m\u001b[39m in \u001b[39m\u001b[39m{elapsed_time}\u001b[39;00m\u001b[39m sec\u001b[39m\u001b[39m\"\u001b[39m,\n\u001b[1;32m   1714\u001b[0m       fun_name\u001b[39m=\u001b[39m\u001b[39mstr\u001b[39m(name_stack), event\u001b[39m=\u001b[39mdispatch\u001b[39m.\u001b[39mJAXPR_TRACE_EVENT):\n\u001b[0;32m-> 1715\u001b[0m     jaxpr, global_out_avals, consts \u001b[39m=\u001b[39m pe\u001b[39m.\u001b[39;49mtrace_to_jaxpr_final(\n\u001b[1;32m   1716\u001b[0m         fun_or_jaxpr, global_in_avals)\n\u001b[1;32m   1717\u001b[0m \u001b[39melse\u001b[39;00m:\n\u001b[1;32m   1718\u001b[0m   \u001b[39massert\u001b[39;00m \u001b[39misinstance\u001b[39m(fun_or_jaxpr, core\u001b[39m.\u001b[39mClosedJaxpr)\n",
      "File \u001b[0;32m~/.local/lib/python3.10/site-packages/jax/_src/profiler.py:314\u001b[0m, in \u001b[0;36mannotate_function.<locals>.wrapper\u001b[0;34m(*args, **kwargs)\u001b[0m\n\u001b[1;32m    311\u001b[0m \u001b[39m@wraps\u001b[39m(func)\n\u001b[1;32m    312\u001b[0m \u001b[39mdef\u001b[39;00m \u001b[39mwrapper\u001b[39m(\u001b[39m*\u001b[39margs, \u001b[39m*\u001b[39m\u001b[39m*\u001b[39mkwargs):\n\u001b[1;32m    313\u001b[0m   \u001b[39mwith\u001b[39;00m TraceAnnotation(name, \u001b[39m*\u001b[39m\u001b[39m*\u001b[39mdecorator_kwargs):\n\u001b[0;32m--> 314\u001b[0m     \u001b[39mreturn\u001b[39;00m func(\u001b[39m*\u001b[39;49margs, \u001b[39m*\u001b[39;49m\u001b[39m*\u001b[39;49mkwargs)\n\u001b[1;32m    315\u001b[0m   \u001b[39mreturn\u001b[39;00m wrapper\n",
      "File \u001b[0;32m~/.local/lib/python3.10/site-packages/jax/_src/interpreters/partial_eval.py:2281\u001b[0m, in \u001b[0;36mtrace_to_jaxpr_final\u001b[0;34m(fun, in_avals, debug_info, keep_inputs)\u001b[0m\n\u001b[1;32m   2279\u001b[0m   main\u001b[39m.\u001b[39mjaxpr_stack \u001b[39m=\u001b[39m ()  \u001b[39m# type: ignore\u001b[39;00m\n\u001b[1;32m   2280\u001b[0m   \u001b[39mwith\u001b[39;00m core\u001b[39m.\u001b[39mnew_sublevel():\n\u001b[0;32m-> 2281\u001b[0m     jaxpr, out_avals, consts \u001b[39m=\u001b[39m trace_to_subjaxpr_dynamic(\n\u001b[1;32m   2282\u001b[0m       fun, main, in_avals, keep_inputs\u001b[39m=\u001b[39;49mkeep_inputs, debug_info\u001b[39m=\u001b[39;49mdebug_info)\n\u001b[1;32m   2283\u001b[0m   \u001b[39mdel\u001b[39;00m fun, main\n\u001b[1;32m   2284\u001b[0m \u001b[39mreturn\u001b[39;00m jaxpr, out_avals, consts\n",
      "File \u001b[0;32m~/.local/lib/python3.10/site-packages/jax/_src/interpreters/partial_eval.py:2225\u001b[0m, in \u001b[0;36mtrace_to_subjaxpr_dynamic\u001b[0;34m(fun, main, in_avals, keep_inputs, debug_info)\u001b[0m\n\u001b[1;32m   2223\u001b[0m in_tracers \u001b[39m=\u001b[39m _input_type_to_tracers(trace\u001b[39m.\u001b[39mnew_arg, in_avals)\n\u001b[1;32m   2224\u001b[0m in_tracers_ \u001b[39m=\u001b[39m [t \u001b[39mfor\u001b[39;00m t, keep \u001b[39min\u001b[39;00m \u001b[39mzip\u001b[39m(in_tracers, keep_inputs) \u001b[39mif\u001b[39;00m keep]\n\u001b[0;32m-> 2225\u001b[0m ans \u001b[39m=\u001b[39m fun\u001b[39m.\u001b[39;49mcall_wrapped(\u001b[39m*\u001b[39;49min_tracers_)\n\u001b[1;32m   2226\u001b[0m out_tracers \u001b[39m=\u001b[39m \u001b[39mmap\u001b[39m(trace\u001b[39m.\u001b[39mfull_raise, ans)\n\u001b[1;32m   2227\u001b[0m jaxpr, consts \u001b[39m=\u001b[39m frame\u001b[39m.\u001b[39mto_jaxpr(out_tracers)\n",
      "File \u001b[0;32m~/.local/lib/python3.10/site-packages/jax/_src/linear_util.py:190\u001b[0m, in \u001b[0;36mWrappedFun.call_wrapped\u001b[0;34m(self, *args, **kwargs)\u001b[0m\n\u001b[1;32m    187\u001b[0m gen \u001b[39m=\u001b[39m gen_static_args \u001b[39m=\u001b[39m out_store \u001b[39m=\u001b[39m \u001b[39mNone\u001b[39;00m\n\u001b[1;32m    189\u001b[0m \u001b[39mtry\u001b[39;00m:\n\u001b[0;32m--> 190\u001b[0m   ans \u001b[39m=\u001b[39m \u001b[39mself\u001b[39;49m\u001b[39m.\u001b[39;49mf(\u001b[39m*\u001b[39;49margs, \u001b[39m*\u001b[39;49m\u001b[39m*\u001b[39;49m\u001b[39mdict\u001b[39;49m(\u001b[39mself\u001b[39;49m\u001b[39m.\u001b[39;49mparams, \u001b[39m*\u001b[39;49m\u001b[39m*\u001b[39;49mkwargs))\n\u001b[1;32m    191\u001b[0m \u001b[39mexcept\u001b[39;00m:\n\u001b[1;32m    192\u001b[0m   \u001b[39m# Some transformations yield from inside context managers, so we have to\u001b[39;00m\n\u001b[1;32m    193\u001b[0m   \u001b[39m# interrupt them before reraising the exception. Otherwise they will only\u001b[39;00m\n\u001b[1;32m    194\u001b[0m   \u001b[39m# get garbage-collected at some later time, running their cleanup tasks\u001b[39;00m\n\u001b[1;32m    195\u001b[0m   \u001b[39m# only after this exception is handled, which can corrupt the global\u001b[39;00m\n\u001b[1;32m    196\u001b[0m   \u001b[39m# state.\u001b[39;00m\n\u001b[1;32m    197\u001b[0m   \u001b[39mwhile\u001b[39;00m stack:\n",
      "File \u001b[0;32m~/.local/lib/python3.10/site-packages/jax/_src/dispatch.py:149\u001b[0m, in \u001b[0;36mxla_primitive_callable.<locals>.prim_fun\u001b[0;34m(*args)\u001b[0m\n\u001b[1;32m    148\u001b[0m \u001b[39mdef\u001b[39;00m \u001b[39mprim_fun\u001b[39m(\u001b[39m*\u001b[39margs):\n\u001b[0;32m--> 149\u001b[0m   out \u001b[39m=\u001b[39m prim\u001b[39m.\u001b[39;49mbind(\u001b[39m*\u001b[39;49margs, \u001b[39m*\u001b[39;49m\u001b[39m*\u001b[39;49mparams)\n\u001b[1;32m    150\u001b[0m   \u001b[39mif\u001b[39;00m prim\u001b[39m.\u001b[39mmultiple_results:\n\u001b[1;32m    151\u001b[0m     \u001b[39mreturn\u001b[39;00m out\n",
      "File \u001b[0;32m~/.local/lib/python3.10/site-packages/jax/_src/core.py:386\u001b[0m, in \u001b[0;36mPrimitive.bind\u001b[0;34m(self, *args, **params)\u001b[0m\n\u001b[1;32m    383\u001b[0m \u001b[39mdef\u001b[39;00m \u001b[39mbind\u001b[39m(\u001b[39mself\u001b[39m, \u001b[39m*\u001b[39margs, \u001b[39m*\u001b[39m\u001b[39m*\u001b[39mparams):\n\u001b[1;32m    384\u001b[0m   \u001b[39massert\u001b[39;00m (\u001b[39mnot\u001b[39;00m config\u001b[39m.\u001b[39mjax_enable_checks \u001b[39mor\u001b[39;00m\n\u001b[1;32m    385\u001b[0m           \u001b[39mall\u001b[39m(\u001b[39misinstance\u001b[39m(arg, Tracer) \u001b[39mor\u001b[39;00m valid_jaxtype(arg) \u001b[39mfor\u001b[39;00m arg \u001b[39min\u001b[39;00m args)), args\n\u001b[0;32m--> 386\u001b[0m   \u001b[39mreturn\u001b[39;00m \u001b[39mself\u001b[39;49m\u001b[39m.\u001b[39;49mbind_with_trace(find_top_trace(args), args, params)\n",
      "File \u001b[0;32m~/.local/lib/python3.10/site-packages/jax/_src/core.py:389\u001b[0m, in \u001b[0;36mPrimitive.bind_with_trace\u001b[0;34m(self, trace, args, params)\u001b[0m\n\u001b[1;32m    388\u001b[0m \u001b[39mdef\u001b[39;00m \u001b[39mbind_with_trace\u001b[39m(\u001b[39mself\u001b[39m, trace, args, params):\n\u001b[0;32m--> 389\u001b[0m   out \u001b[39m=\u001b[39m trace\u001b[39m.\u001b[39;49mprocess_primitive(\u001b[39mself\u001b[39;49m, \u001b[39mmap\u001b[39;49m(trace\u001b[39m.\u001b[39;49mfull_raise, args), params)\n\u001b[1;32m    390\u001b[0m   \u001b[39mreturn\u001b[39;00m \u001b[39mmap\u001b[39m(full_lower, out) \u001b[39mif\u001b[39;00m \u001b[39mself\u001b[39m\u001b[39m.\u001b[39mmultiple_results \u001b[39melse\u001b[39;00m full_lower(out)\n",
      "File \u001b[0;32m~/.local/lib/python3.10/site-packages/jax/_src/interpreters/partial_eval.py:1897\u001b[0m, in \u001b[0;36mDynamicJaxprTrace.process_primitive\u001b[0;34m(self, primitive, tracers, params)\u001b[0m\n\u001b[1;32m   1895\u001b[0m \u001b[39mif\u001b[39;00m primitive \u001b[39min\u001b[39;00m custom_staging_rules:\n\u001b[1;32m   1896\u001b[0m   \u001b[39mreturn\u001b[39;00m custom_staging_rules[primitive](\u001b[39mself\u001b[39m, \u001b[39m*\u001b[39mtracers, \u001b[39m*\u001b[39m\u001b[39m*\u001b[39mparams)\n\u001b[0;32m-> 1897\u001b[0m \u001b[39mreturn\u001b[39;00m \u001b[39mself\u001b[39;49m\u001b[39m.\u001b[39;49mdefault_process_primitive(primitive, tracers, params)\n",
      "File \u001b[0;32m~/.local/lib/python3.10/site-packages/jax/_src/interpreters/partial_eval.py:1901\u001b[0m, in \u001b[0;36mDynamicJaxprTrace.default_process_primitive\u001b[0;34m(self, primitive, tracers, params)\u001b[0m\n\u001b[1;32m   1899\u001b[0m \u001b[39mdef\u001b[39;00m \u001b[39mdefault_process_primitive\u001b[39m(\u001b[39mself\u001b[39m, primitive, tracers, params):\n\u001b[1;32m   1900\u001b[0m   avals \u001b[39m=\u001b[39m [t\u001b[39m.\u001b[39maval \u001b[39mfor\u001b[39;00m t \u001b[39min\u001b[39;00m tracers]\n\u001b[0;32m-> 1901\u001b[0m   out_avals, effects \u001b[39m=\u001b[39m primitive\u001b[39m.\u001b[39;49mabstract_eval(\u001b[39m*\u001b[39;49mavals, \u001b[39m*\u001b[39;49m\u001b[39m*\u001b[39;49mparams)\n\u001b[1;32m   1902\u001b[0m   \u001b[39m# == serve as a \"not xor\" here.\u001b[39;00m\n\u001b[1;32m   1903\u001b[0m   \u001b[39mif\u001b[39;00m \u001b[39mnot\u001b[39;00m (\u001b[39misinstance\u001b[39m(out_avals, (\u001b[39mtuple\u001b[39m,\u001b[39mlist\u001b[39m)) \u001b[39m==\u001b[39m primitive\u001b[39m.\u001b[39mmultiple_results):\n",
      "File \u001b[0;32m~/.local/lib/python3.10/site-packages/jax/_src/core.py:422\u001b[0m, in \u001b[0;36m_effect_free_abstract_eval.<locals>.abstract_eval_\u001b[0;34m(*args, **kwargs)\u001b[0m\n\u001b[1;32m    421\u001b[0m \u001b[39mdef\u001b[39;00m \u001b[39mabstract_eval_\u001b[39m(\u001b[39m*\u001b[39margs, \u001b[39m*\u001b[39m\u001b[39m*\u001b[39mkwargs):\n\u001b[0;32m--> 422\u001b[0m   \u001b[39mreturn\u001b[39;00m abstract_eval(\u001b[39m*\u001b[39;49margs, \u001b[39m*\u001b[39;49m\u001b[39m*\u001b[39;49mkwargs), no_effects\n",
      "File \u001b[0;32m~/.local/lib/python3.10/site-packages/jax/_src/lax/utils.py:60\u001b[0m, in \u001b[0;36mstandard_abstract_eval\u001b[0;34m(prim, shape_rule, dtype_rule, weak_type_rule, named_shape_rule, *avals, **kwargs)\u001b[0m\n\u001b[1;32m     58\u001b[0m   \u001b[39mreturn\u001b[39;00m core\u001b[39m.\u001b[39mConcreteArray(out\u001b[39m.\u001b[39mdtype, out, weak_type\u001b[39m=\u001b[39mweak_type)\n\u001b[1;32m     59\u001b[0m \u001b[39melif\u001b[39;00m least_specialized \u001b[39mis\u001b[39;00m core\u001b[39m.\u001b[39mShapedArray:\n\u001b[0;32m---> 60\u001b[0m   \u001b[39mreturn\u001b[39;00m core\u001b[39m.\u001b[39mShapedArray(shape_rule(\u001b[39m*\u001b[39;49mavals, \u001b[39m*\u001b[39;49m\u001b[39m*\u001b[39;49mkwargs),\n\u001b[1;32m     61\u001b[0m                           dtype_rule(\u001b[39m*\u001b[39mavals, \u001b[39m*\u001b[39m\u001b[39m*\u001b[39mkwargs), weak_type\u001b[39m=\u001b[39mweak_type,\n\u001b[1;32m     62\u001b[0m                           named_shape\u001b[39m=\u001b[39mnamed_shape_rule(\u001b[39m*\u001b[39mavals, \u001b[39m*\u001b[39m\u001b[39m*\u001b[39mkwargs))\n\u001b[1;32m     63\u001b[0m \u001b[39melif\u001b[39;00m least_specialized \u001b[39mis\u001b[39;00m core\u001b[39m.\u001b[39mDShapedArray:\n\u001b[1;32m     64\u001b[0m   shape \u001b[39m=\u001b[39m shape_rule(\u001b[39m*\u001b[39mavals, \u001b[39m*\u001b[39m\u001b[39m*\u001b[39mkwargs)\n",
      "File \u001b[0;32m~/.local/lib/python3.10/site-packages/jax/_src/lax/slicing.py:1868\u001b[0m, in \u001b[0;36m_scatter_shape_rule\u001b[0;34m(operand, indices, updates, update_jaxpr, update_consts, dimension_numbers, indices_are_sorted, unique_indices, mode)\u001b[0m\n\u001b[1;32m   1856\u001b[0m \u001b[39mdef\u001b[39;00m \u001b[39m_scatter_shape_rule\u001b[39m(operand, indices, updates, \u001b[39m*\u001b[39m, update_jaxpr,\n\u001b[1;32m   1857\u001b[0m                         update_consts, dimension_numbers, indices_are_sorted,\n\u001b[1;32m   1858\u001b[0m                         unique_indices, mode):\n\u001b[1;32m   1859\u001b[0m   \u001b[39m\"\"\"Validates the well-formedness of the ``dimension_numbers`` argument to\u001b[39;00m\n\u001b[1;32m   1860\u001b[0m \u001b[39m  Scatter.\u001b[39;00m\n\u001b[1;32m   1861\u001b[0m \n\u001b[0;32m   (...)\u001b[0m\n\u001b[1;32m   1865\u001b[0m \u001b[39m  ShapeInference::InferScatterShape in TensorFlow.\u001b[39;00m\n\u001b[1;32m   1866\u001b[0m \u001b[39m  \"\"\"\u001b[39;00m\n\u001b[0;32m-> 1868\u001b[0m   update_window_dims \u001b[39m=\u001b[39m dimension_numbers\u001b[39m.\u001b[39;49mupdate_window_dims\n\u001b[1;32m   1869\u001b[0m   inserted_window_dims \u001b[39m=\u001b[39m dimension_numbers\u001b[39m.\u001b[39minserted_window_dims\n\u001b[1;32m   1870\u001b[0m   scatter_dims_to_operand_dims \u001b[39m=\u001b[39m dimension_numbers\u001b[39m.\u001b[39mscatter_dims_to_operand_dims\n",
      "\u001b[0;31mAttributeError\u001b[0m: 'int' object has no attribute 'update_window_dims'"
     ]
    }
   ],
   "source": [
    "\n",
    "\n",
    "#jax.lax.scatter(jnp.zeros(6,), jnp.array([1,3,5]), jnp.array([20,1,1], dtype=jnp.float32), 0)"
   ]
  },
  {
   "cell_type": "code",
   "execution_count": 39,
   "metadata": {},
   "outputs": [
    {
     "data": {
      "text/plain": [
       "Array([20.,  1.,  1.], dtype=float32)"
      ]
     },
     "execution_count": 39,
     "metadata": {},
     "output_type": "execute_result"
    }
   ],
   "source": [
    "vec.data"
   ]
  },
  {
   "cell_type": "code",
   "execution_count": null,
   "metadata": {},
   "outputs": [],
   "source": []
  }
 ],
 "metadata": {
  "kernelspec": {
   "display_name": "sparse-retrieval-update",
   "language": "python",
   "name": "sparse-retrieval-update"
  },
  "language_info": {
   "codemirror_mode": {
    "name": "ipython",
    "version": 3
   },
   "file_extension": ".py",
   "mimetype": "text/x-python",
   "name": "python",
   "nbconvert_exporter": "python",
   "pygments_lexer": "ipython3",
   "version": "3.10.13 (main, Aug 25 2023, 13:20:03) [GCC 9.4.0]"
  },
  "orig_nbformat": 4
 },
 "nbformat": 4,
 "nbformat_minor": 2
}
