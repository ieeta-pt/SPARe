{
 "cells": [
  {
   "cell_type": "code",
   "execution_count": 1,
   "metadata": {},
   "outputs": [],
   "source": [
    "import pyterrier  as pt\n",
    "from tqdm import tqdm\n",
    "import pandas as pd\n",
    "import time"
   ]
  },
  {
   "cell_type": "code",
   "execution_count": 2,
   "metadata": {},
   "outputs": [
    {
     "name": "stderr",
     "output_type": "stream",
     "text": [
      "PyTerrier 0.9.2 has loaded Terrier 5.7 (built by craigm on 2022-11-10 18:30) and terrier-helper 0.0.7\n",
      "\n",
      "No etc/terrier.properties, using terrier.default.properties for bootstrap configuration.\n"
     ]
    }
   ],
   "source": [
    "pt.init()"
   ]
  },
  {
   "cell_type": "code",
   "execution_count": 3,
   "metadata": {},
   "outputs": [
    {
     "name": "stdout",
     "output_type": "stream",
     "text": [
      "13:41:07.070 [main] WARN org.terrier.structures.BaseCompressingMetaIndex - Structure meta reading data file directly from disk (SLOW) - try index.meta.data-source=fileinmem in the index properties file. 1.9 GiB of memory would be required.\n"
     ]
    }
   ],
   "source": [
    "indexref = pt.IndexRef.of(\"../syn-question-col-analysis/datasets/msmarco/terrier_index/\")\n",
    "index = pt.IndexFactory.of(indexref)\n",
    "\n"
   ]
  },
  {
   "cell_type": "code",
   "execution_count": 4,
   "metadata": {},
   "outputs": [],
   "source": [
    "\n",
    "\n",
    "token2id = {word.getKey():i for i,word in enumerate(index.getLexicon()) }\n"
   ]
  },
  {
   "cell_type": "code",
   "execution_count": 5,
   "metadata": {},
   "outputs": [],
   "source": [
    "def tp_func():\n",
    "  stops = pt.autoclass(\"org.terrier.terms.Stopwords\")(None)\n",
    "  stemmer = pt.autoclass(\"org.terrier.terms.PorterStemmer\")(None)\n",
    "  def _apply_func(row):\n",
    "    words = row[\"query\"].split(\" \") # this is safe following pt.rewrite.tokenise()\n",
    "    words = [stemmer.stem(w) for w in words if not stops.isStopword(w) ]\n",
    "    return \" \".join(words)\n",
    "  return _apply_func \n",
    "\n",
    "pipe = pt.rewrite.tokenise() >> pt.apply.query(tp_func())"
   ]
  },
  {
   "cell_type": "code",
   "execution_count": 6,
   "metadata": {},
   "outputs": [
    {
     "data": {
      "text/plain": [
       "'hello name stude'"
      ]
     },
     "execution_count": 6,
     "metadata": {},
     "output_type": "execute_result"
    }
   ],
   "source": [
    "import pandas as pd\n",
    "\n",
    "pipe(pd.DataFrame([{\"qid\":0, \"query\":\"hello my name is studing\".lower()}]))[\"query\"][0]"
   ]
  },
  {
   "cell_type": "code",
   "execution_count": 7,
   "metadata": {},
   "outputs": [],
   "source": [
    "a = pd.DataFrame([{\"qid\":0, \"query\":\"hello my name is studing\".lower()}])#[0,0]"
   ]
  },
  {
   "cell_type": "code",
   "execution_count": 8,
   "metadata": {},
   "outputs": [],
   "source": [
    "import json\n",
    "\n",
    "with open(\"../syn-question-col-analysis/question_generation/gen_output/msmarco/selected_corpus_lm_fcm_STD2_L10000_gpt-neo-1.3B_BS_5_E13931.459746599197.jsonl\") as f:\n",
    "    questions = [line for line in map(json.loads, f)]"
   ]
  },
  {
   "cell_type": "code",
   "execution_count": null,
   "metadata": {},
   "outputs": [],
   "source": []
  },
  {
   "cell_type": "code",
   "execution_count": 10,
   "metadata": {},
   "outputs": [
    {
     "name": "stderr",
     "output_type": "stream",
     "text": [
      "100%|██████████| 200/200 [00:09<00:00, 20.80it/s]\n"
     ]
    },
    {
     "name": "stdout",
     "output_type": "stream",
     "text": [
      "10 : 20.795093903445817 it/s\n"
     ]
    },
    {
     "name": "stderr",
     "output_type": "stream",
     "text": [
      "100%|██████████| 200/200 [00:10<00:00, 18.38it/s]\n"
     ]
    },
    {
     "name": "stdout",
     "output_type": "stream",
     "text": [
      "100 : 18.3788653809974 it/s\n"
     ]
    },
    {
     "name": "stderr",
     "output_type": "stream",
     "text": [
      "100%|██████████| 200/200 [00:22<00:00,  8.87it/s]\n"
     ]
    },
    {
     "name": "stdout",
     "output_type": "stream",
     "text": [
      "1000 : 8.872609842918274 it/s\n"
     ]
    },
    {
     "name": "stderr",
     "output_type": "stream",
     "text": [
      "100%|██████████| 200/200 [02:36<00:00,  1.27it/s]"
     ]
    },
    {
     "name": "stdout",
     "output_type": "stream",
     "text": [
      "10000 : 1.2742824856603254 it/s\n"
     ]
    },
    {
     "name": "stderr",
     "output_type": "stream",
     "text": [
      "\n"
     ]
    }
   ],
   "source": [
    "for at in [10, 100, 1000, 10_000]:\n",
    "    bm25_pipe = pt.rewrite.tokenise() >> (pt.BatchRetrieve(index, wmodel=\"BM25\", num_results=at))\n",
    "    results = []\n",
    "    time_list = []\n",
    "    st = time.time()\n",
    "    for i in tqdm(range(200)):\n",
    "        question = questions[i]\n",
    "        \n",
    "        questions_dataframe = pd.DataFrame([{\"qid\":0, \"query\":question[\"question\"].lower()}])\n",
    "\n",
    "        df_results = bm25_pipe.transform(questions_dataframe)\n",
    "        \n",
    "        results.append(df_results[\"docno\"].tolist())\n",
    "    print(at, \":\", 200/(time.time()-st),\"it/s\")"
   ]
  },
  {
   "cell_type": "code",
   "execution_count": 13,
   "metadata": {},
   "outputs": [
    {
     "data": {
      "text/plain": [
       "0.055793352603912355"
      ]
     },
     "execution_count": 13,
     "metadata": {},
     "output_type": "execute_result"
    }
   ],
   "source": [
    "sum(time_list)/len(time_list)"
   ]
  },
  {
   "cell_type": "code",
   "execution_count": 9,
   "metadata": {},
   "outputs": [],
   "source": [
    "bm25_pipe = pt.rewrite.tokenise() >> (pt.BatchRetrieve(index, wmodel=\"BM25\", num_results=10, controls={\"bm25.k3\" : 0}))\n",
    "\n",
    "question = questions[0]\n",
    "\n",
    "questions_dataframe = pd.DataFrame([{\"qid\":0, \"query\":question[\"question\"].lower()}])\n",
    "\n",
    "df_results = bm25_pipe.transform(questions_dataframe)"
   ]
  },
  {
   "cell_type": "code",
   "execution_count": 10,
   "metadata": {},
   "outputs": [
    {
     "data": {
      "text/html": [
       "<div>\n",
       "<style scoped>\n",
       "    .dataframe tbody tr th:only-of-type {\n",
       "        vertical-align: middle;\n",
       "    }\n",
       "\n",
       "    .dataframe tbody tr th {\n",
       "        vertical-align: top;\n",
       "    }\n",
       "\n",
       "    .dataframe thead th {\n",
       "        text-align: right;\n",
       "    }\n",
       "</style>\n",
       "<table border=\"1\" class=\"dataframe\">\n",
       "  <thead>\n",
       "    <tr style=\"text-align: right;\">\n",
       "      <th></th>\n",
       "      <th>qid</th>\n",
       "      <th>docid</th>\n",
       "      <th>docno</th>\n",
       "      <th>rank</th>\n",
       "      <th>score</th>\n",
       "      <th>query_0</th>\n",
       "      <th>query</th>\n",
       "    </tr>\n",
       "  </thead>\n",
       "  <tbody>\n",
       "    <tr>\n",
       "      <th>0</th>\n",
       "      <td>0</td>\n",
       "      <td>341</td>\n",
       "      <td>341</td>\n",
       "      <td>0</td>\n",
       "      <td>73.502843</td>\n",
       "      <td>what is the relationship between rarotongan an...</td>\n",
       "      <td>what is the relationship between rarotongan an...</td>\n",
       "    </tr>\n",
       "    <tr>\n",
       "      <th>1</th>\n",
       "      <td>0</td>\n",
       "      <td>6080047</td>\n",
       "      <td>6080047</td>\n",
       "      <td>1</td>\n",
       "      <td>43.770319</td>\n",
       "      <td>what is the relationship between rarotongan an...</td>\n",
       "      <td>what is the relationship between rarotongan an...</td>\n",
       "    </tr>\n",
       "    <tr>\n",
       "      <th>2</th>\n",
       "      <td>0</td>\n",
       "      <td>6080050</td>\n",
       "      <td>6080050</td>\n",
       "      <td>2</td>\n",
       "      <td>43.179743</td>\n",
       "      <td>what is the relationship between rarotongan an...</td>\n",
       "      <td>what is the relationship between rarotongan an...</td>\n",
       "    </tr>\n",
       "    <tr>\n",
       "      <th>3</th>\n",
       "      <td>0</td>\n",
       "      <td>6080052</td>\n",
       "      <td>6080052</td>\n",
       "      <td>3</td>\n",
       "      <td>41.241986</td>\n",
       "      <td>what is the relationship between rarotongan an...</td>\n",
       "      <td>what is the relationship between rarotongan an...</td>\n",
       "    </tr>\n",
       "    <tr>\n",
       "      <th>4</th>\n",
       "      <td>0</td>\n",
       "      <td>2787655</td>\n",
       "      <td>2787655</td>\n",
       "      <td>4</td>\n",
       "      <td>40.527819</td>\n",
       "      <td>what is the relationship between rarotongan an...</td>\n",
       "      <td>what is the relationship between rarotongan an...</td>\n",
       "    </tr>\n",
       "    <tr>\n",
       "      <th>5</th>\n",
       "      <td>0</td>\n",
       "      <td>3224336</td>\n",
       "      <td>3224336</td>\n",
       "      <td>5</td>\n",
       "      <td>40.233040</td>\n",
       "      <td>what is the relationship between rarotongan an...</td>\n",
       "      <td>what is the relationship between rarotongan an...</td>\n",
       "    </tr>\n",
       "    <tr>\n",
       "      <th>6</th>\n",
       "      <td>0</td>\n",
       "      <td>4383297</td>\n",
       "      <td>4383297</td>\n",
       "      <td>6</td>\n",
       "      <td>38.802598</td>\n",
       "      <td>what is the relationship between rarotongan an...</td>\n",
       "      <td>what is the relationship between rarotongan an...</td>\n",
       "    </tr>\n",
       "    <tr>\n",
       "      <th>7</th>\n",
       "      <td>0</td>\n",
       "      <td>5254867</td>\n",
       "      <td>5254867</td>\n",
       "      <td>7</td>\n",
       "      <td>38.565208</td>\n",
       "      <td>what is the relationship between rarotongan an...</td>\n",
       "      <td>what is the relationship between rarotongan an...</td>\n",
       "    </tr>\n",
       "    <tr>\n",
       "      <th>8</th>\n",
       "      <td>0</td>\n",
       "      <td>3005847</td>\n",
       "      <td>3005847</td>\n",
       "      <td>8</td>\n",
       "      <td>37.762542</td>\n",
       "      <td>what is the relationship between rarotongan an...</td>\n",
       "      <td>what is the relationship between rarotongan an...</td>\n",
       "    </tr>\n",
       "    <tr>\n",
       "      <th>9</th>\n",
       "      <td>0</td>\n",
       "      <td>8529165</td>\n",
       "      <td>8529165</td>\n",
       "      <td>9</td>\n",
       "      <td>35.009236</td>\n",
       "      <td>what is the relationship between rarotongan an...</td>\n",
       "      <td>what is the relationship between rarotongan an...</td>\n",
       "    </tr>\n",
       "  </tbody>\n",
       "</table>\n",
       "</div>"
      ],
      "text/plain": [
       "  qid    docid    docno  rank      score  \\\n",
       "0   0      341      341     0  73.502843   \n",
       "1   0  6080047  6080047     1  43.770319   \n",
       "2   0  6080050  6080050     2  43.179743   \n",
       "3   0  6080052  6080052     3  41.241986   \n",
       "4   0  2787655  2787655     4  40.527819   \n",
       "5   0  3224336  3224336     5  40.233040   \n",
       "6   0  4383297  4383297     6  38.802598   \n",
       "7   0  5254867  5254867     7  38.565208   \n",
       "8   0  3005847  3005847     8  37.762542   \n",
       "9   0  8529165  8529165     9  35.009236   \n",
       "\n",
       "                                             query_0  \\\n",
       "0  what is the relationship between rarotongan an...   \n",
       "1  what is the relationship between rarotongan an...   \n",
       "2  what is the relationship between rarotongan an...   \n",
       "3  what is the relationship between rarotongan an...   \n",
       "4  what is the relationship between rarotongan an...   \n",
       "5  what is the relationship between rarotongan an...   \n",
       "6  what is the relationship between rarotongan an...   \n",
       "7  what is the relationship between rarotongan an...   \n",
       "8  what is the relationship between rarotongan an...   \n",
       "9  what is the relationship between rarotongan an...   \n",
       "\n",
       "                                               query  \n",
       "0  what is the relationship between rarotongan an...  \n",
       "1  what is the relationship between rarotongan an...  \n",
       "2  what is the relationship between rarotongan an...  \n",
       "3  what is the relationship between rarotongan an...  \n",
       "4  what is the relationship between rarotongan an...  \n",
       "5  what is the relationship between rarotongan an...  \n",
       "6  what is the relationship between rarotongan an...  \n",
       "7  what is the relationship between rarotongan an...  \n",
       "8  what is the relationship between rarotongan an...  \n",
       "9  what is the relationship between rarotongan an...  "
      ]
     },
     "execution_count": 10,
     "metadata": {},
     "output_type": "execute_result"
    }
   ],
   "source": [
    "df_results"
   ]
  },
  {
   "cell_type": "code",
   "execution_count": null,
   "metadata": {},
   "outputs": [],
   "source": []
  }
 ],
 "metadata": {
  "kernelspec": {
   "display_name": "syn-quest-venv",
   "language": "python",
   "name": "syn-quest-venv"
  },
  "language_info": {
   "codemirror_mode": {
    "name": "ipython",
    "version": 3
   },
   "file_extension": ".py",
   "mimetype": "text/x-python",
   "name": "python",
   "nbconvert_exporter": "python",
   "pygments_lexer": "ipython3",
   "version": "3.10.9 (main, Jan 28 2023, 19:03:24) [GCC 9.4.0]"
  },
  "orig_nbformat": 4
 },
 "nbformat": 4,
 "nbformat_minor": 2
}
